{
 "cells": [
  {
   "cell_type": "code",
   "execution_count": 6,
   "id": "adfdc0a1-b835-43b4-9afe-3350534c12d3",
   "metadata": {},
   "outputs": [],
   "source": [
    "import pandas as pd\n",
    "import numpy as np\n",
    "import plotly.express as px\n",
    "import plotly.graph_objects as go\n",
    "import folium\n",
    "import geopy.distance\n",
    "import streamlit as st\n",
    "from datetime import datetime\n",
    "from PIL import Image\n",
    "import inflection"
   ]
  },
  {
   "cell_type": "code",
   "execution_count": 7,
   "id": "e2cb9316-bd55-454e-98f5-ea8b2513f529",
   "metadata": {},
   "outputs": [],
   "source": [
    "#Funções iniciais\n",
    "\n",
    "def code_cleaning(df):\n",
    "\n",
    "    #removendo linhas vazias\n",
    "    df = df.dropna()\n",
    "    \n",
    "    #removendo a coluna 'Switch to order menu' (todos os valores são 0 e não há descrição da coluna)\n",
    "    df = df.drop(['Switch to order menu'], axis=1)\n",
    "    \n",
    "    #removendo linhas duplicadas\n",
    "    df = df.drop_duplicates().reset_index(drop=True)\n",
    "    \n",
    "    #categorizando os restaurantes somente pela primeira categoria informada\n",
    "    df['Cuisines'] = df['Cuisines'].apply(lambda x: x.split(',')[0])\n",
    "\n",
    "    return df\n",
    "\n",
    "#Preenchimento do nome dos países\n",
    "country_dict = {\n",
    "    1: \"India\",\n",
    "    14: \"Australia\",\n",
    "    30: \"Brazil\",\n",
    "    37: \"Canada\",\n",
    "    94: \"Indonesia\",\n",
    "    148: \"New Zeland\",\n",
    "    162: \"Philippines\",\n",
    "    166: \"Qatar\",\n",
    "    184: \"Singapure\",\n",
    "    189: \"South Africa\",\n",
    "    191: \"Sri Lanka\",\n",
    "    208: \"Turkey\",\n",
    "    214: \"United Arab Emirates\",\n",
    "    215: \"England\",\n",
    "    216: \"United States of America\",\n",
    "}\n",
    "\n",
    "def country_name(country_id):\n",
    "    return country_dict[country_id]\n",
    "\n",
    "#Criação do Tipo de Categoria de Comida\n",
    "def create_price_type(price_range):\n",
    "    if price_range == 1:\n",
    "        return 'cheap'\n",
    "    elif price_range == 2:\n",
    "        return 'normal'\n",
    "    elif price_range == 3:\n",
    "        return 'expensive'\n",
    "    else:\n",
    "        return 'gourmet'\n",
    "\n",
    "#Criação do nome das Cores\n",
    "color_dict = {\n",
    "    \"3F7E00\": \"darkgreen\",\n",
    "    \"5BA829\": \"green\",\n",
    "    \"9ACD32\": \"lightgreen\",\n",
    "    \"CDD614\": \"orange\",\n",
    "    \"FFBA00\": \"red\",\n",
    "    \"CBCBC8\": \"darkred\",\n",
    "    \"FF7800\": \"darkred\",\n",
    "}\n",
    "\n",
    "def color_name(color_code):\n",
    "    return color_dict[color_code]\n",
    "\n",
    "#Renomear as colunas do DataFrame\n",
    "def rename_columns(df):\n",
    "    df = df.copy()\n",
    "    title = lambda x: inflection.titleize(x)\n",
    "    snakecase = lambda x: inflection.underscore(x)\n",
    "    spaces = lambda x: x.replace(\" \", \"\")\n",
    "    cols_old = list(df.columns)\n",
    "    cols_old = list(map(title, cols_old))\n",
    "    cols_old = list(map(spaces, cols_old))\n",
    "    cols_new = list(map(snakecase, cols_old))\n",
    "    df.columns = cols_new\n",
    "    return df\n",
    "\n",
    "#Criando nova coluna com valores da 'average_cost_for_two' convertidos para BRL\n",
    "currency_to_BRL = {\n",
    "    'Botswana Pula(P)': 0.36,\n",
    "    'Brazilian Real(R$)': 1,\n",
    "    'Dollar($)': 4.92,\n",
    "    'Emirati Diram(AED)': 1.34, \n",
    "    'Indian Rupees(Rs.)': 0.059,\n",
    "    'Indonesian Rupiah(IDR)': 0.00032, \n",
    "    'NewZealand($)': 3.03, \n",
    "    'Pounds(£)': 6.27,\n",
    "    'Qatari Rial(QR)': 1.35,\n",
    "    'Rand(R)': 0.26,\n",
    "    'Sri Lankan Rupee(LKR)': 0.016,\n",
    "    'Turkish Lira(TL)': 0.19\n",
    "}\n",
    "\n",
    "def convert_to_BRL(average_cost_for_two):\n",
    "    return currency_to_BRL[average_cost_for_two]"
   ]
  },
  {
   "cell_type": "code",
   "execution_count": 12,
   "id": "3a8c8976-8453-4b8b-832b-068a11679a6c",
   "metadata": {},
   "outputs": [],
   "source": [
    "#carregando dataset\n",
    "# csv_path = r\"C:\\Users\\rodol\\Documents\\Comunidade DS\\repos\\ftc\\ciclo8_projeto_do_aluno\\files\\dataset\\zomato.csv\"\n",
    "csv_path = '../dataset/zomato.csv'\n",
    "\n",
    "df = pd.read_csv(csv_path)\n",
    "\n",
    "df = code_cleaning(df)\n",
    "\n",
    "df['Country Name'] = df['Country Code'].map(country_name)\n",
    "\n",
    "df['Price Category'] = df['Price range'].map(create_price_type)\n",
    "\n",
    "df['Rating Color Name'] = df['Rating color'].map(color_name)\n",
    "\n",
    "# df['currency_conversion_BRL'] = df['currency'].map(conversao_para_real)\n",
    "df['average_cost_for_two_brl'] = df['Average Cost for two'] * df['Currency'].map(convert_to_BRL)\n",
    "\n",
    "df = rename_columns(df)\n",
    "\n",
    "#removendo a linha 356, pois o average_cost_for_two_brl é um outlier (mais de R$123mi para duas pessoas)\n",
    "df = df.drop([356,0]).reset_index(drop=True)"
   ]
  },
  {
   "cell_type": "code",
   "execution_count": 13,
   "id": "2c3fa6b9-8f4f-41c8-8340-61f4736b2901",
   "metadata": {},
   "outputs": [
    {
     "data": {
      "text/html": [
       "<div>\n",
       "<style scoped>\n",
       "    .dataframe tbody tr th:only-of-type {\n",
       "        vertical-align: middle;\n",
       "    }\n",
       "\n",
       "    .dataframe tbody tr th {\n",
       "        vertical-align: top;\n",
       "    }\n",
       "\n",
       "    .dataframe thead th {\n",
       "        text-align: right;\n",
       "    }\n",
       "</style>\n",
       "<table border=\"1\" class=\"dataframe\">\n",
       "  <thead>\n",
       "    <tr style=\"text-align: right;\">\n",
       "      <th></th>\n",
       "      <th>0</th>\n",
       "      <th>1</th>\n",
       "      <th>2</th>\n",
       "      <th>3</th>\n",
       "      <th>4</th>\n",
       "    </tr>\n",
       "  </thead>\n",
       "  <tbody>\n",
       "    <tr>\n",
       "      <th>restaurant_id</th>\n",
       "      <td>6314542</td>\n",
       "      <td>6301293</td>\n",
       "      <td>6315689</td>\n",
       "      <td>6304833</td>\n",
       "      <td>18409457</td>\n",
       "    </tr>\n",
       "    <tr>\n",
       "      <th>restaurant_name</th>\n",
       "      <td>Blackbird</td>\n",
       "      <td>Banapple</td>\n",
       "      <td>Bad Bird</td>\n",
       "      <td>Manam</td>\n",
       "      <td>Soban K-Town Grill</td>\n",
       "    </tr>\n",
       "    <tr>\n",
       "      <th>country_code</th>\n",
       "      <td>162</td>\n",
       "      <td>162</td>\n",
       "      <td>162</td>\n",
       "      <td>162</td>\n",
       "      <td>162</td>\n",
       "    </tr>\n",
       "    <tr>\n",
       "      <th>city</th>\n",
       "      <td>Makati City</td>\n",
       "      <td>Makati City</td>\n",
       "      <td>Makati City</td>\n",
       "      <td>Makati City</td>\n",
       "      <td>Makati City</td>\n",
       "    </tr>\n",
       "    <tr>\n",
       "      <th>address</th>\n",
       "      <td>Nielson Tower, Ayala Triangle Gardens, Salcedo...</td>\n",
       "      <td>Ayala Triangle Gardens, Salcedo Village, Makat...</td>\n",
       "      <td>Hole In The Wall, Floor 4, Century City Mall, ...</td>\n",
       "      <td>Level 1, Greenbelt 2, Ayala Center, Greenbelt,...</td>\n",
       "      <td>Level 3, Greenbelt 3, Ayala Center, Greenbelt,...</td>\n",
       "    </tr>\n",
       "    <tr>\n",
       "      <th>locality</th>\n",
       "      <td>Ayala Triangle Gardens, Salcedo Village, Makat...</td>\n",
       "      <td>Ayala Triangle Gardens, Salcedo Village, Makat...</td>\n",
       "      <td>Century City Mall, Poblacion, Makati City</td>\n",
       "      <td>Greenbelt 2, San Lorenzo, Makati City</td>\n",
       "      <td>Greenbelt 3, San Lorenzo, Makati City</td>\n",
       "    </tr>\n",
       "    <tr>\n",
       "      <th>locality_verbose</th>\n",
       "      <td>Ayala Triangle Gardens, Salcedo Village, Makat...</td>\n",
       "      <td>Ayala Triangle Gardens, Salcedo Village, Makat...</td>\n",
       "      <td>Century City Mall, Poblacion, Makati City, Mak...</td>\n",
       "      <td>Greenbelt 2, San Lorenzo, Makati City, Makati ...</td>\n",
       "      <td>Greenbelt 3, San Lorenzo, Makati City, Makati ...</td>\n",
       "    </tr>\n",
       "    <tr>\n",
       "      <th>longitude</th>\n",
       "      <td>121.024562</td>\n",
       "      <td>121.023171</td>\n",
       "      <td>121.027708</td>\n",
       "      <td>121.02038</td>\n",
       "      <td>121.021388</td>\n",
       "    </tr>\n",
       "    <tr>\n",
       "      <th>latitude</th>\n",
       "      <td>14.556042</td>\n",
       "      <td>14.556196</td>\n",
       "      <td>14.565899</td>\n",
       "      <td>14.552351</td>\n",
       "      <td>14.552248</td>\n",
       "    </tr>\n",
       "    <tr>\n",
       "      <th>cuisines</th>\n",
       "      <td>European</td>\n",
       "      <td>Filipino</td>\n",
       "      <td>American</td>\n",
       "      <td>Filipino</td>\n",
       "      <td>Korean</td>\n",
       "    </tr>\n",
       "    <tr>\n",
       "      <th>average_cost_for_two</th>\n",
       "      <td>3100</td>\n",
       "      <td>800</td>\n",
       "      <td>700</td>\n",
       "      <td>700</td>\n",
       "      <td>1300</td>\n",
       "    </tr>\n",
       "    <tr>\n",
       "      <th>currency</th>\n",
       "      <td>Botswana Pula(P)</td>\n",
       "      <td>Botswana Pula(P)</td>\n",
       "      <td>Botswana Pula(P)</td>\n",
       "      <td>Botswana Pula(P)</td>\n",
       "      <td>Botswana Pula(P)</td>\n",
       "    </tr>\n",
       "    <tr>\n",
       "      <th>has_table_booking</th>\n",
       "      <td>0</td>\n",
       "      <td>0</td>\n",
       "      <td>0</td>\n",
       "      <td>0</td>\n",
       "      <td>0</td>\n",
       "    </tr>\n",
       "    <tr>\n",
       "      <th>has_online_delivery</th>\n",
       "      <td>0</td>\n",
       "      <td>0</td>\n",
       "      <td>0</td>\n",
       "      <td>0</td>\n",
       "      <td>0</td>\n",
       "    </tr>\n",
       "    <tr>\n",
       "      <th>is_delivering_now</th>\n",
       "      <td>0</td>\n",
       "      <td>0</td>\n",
       "      <td>0</td>\n",
       "      <td>0</td>\n",
       "      <td>0</td>\n",
       "    </tr>\n",
       "    <tr>\n",
       "      <th>price_range</th>\n",
       "      <td>4</td>\n",
       "      <td>3</td>\n",
       "      <td>3</td>\n",
       "      <td>3</td>\n",
       "      <td>3</td>\n",
       "    </tr>\n",
       "    <tr>\n",
       "      <th>aggregate_rating</th>\n",
       "      <td>4.7</td>\n",
       "      <td>4.4</td>\n",
       "      <td>4.4</td>\n",
       "      <td>4.7</td>\n",
       "      <td>4.7</td>\n",
       "    </tr>\n",
       "    <tr>\n",
       "      <th>rating_color</th>\n",
       "      <td>3F7E00</td>\n",
       "      <td>5BA829</td>\n",
       "      <td>5BA829</td>\n",
       "      <td>3F7E00</td>\n",
       "      <td>3F7E00</td>\n",
       "    </tr>\n",
       "    <tr>\n",
       "      <th>rating_text</th>\n",
       "      <td>Excellent</td>\n",
       "      <td>Very Good</td>\n",
       "      <td>Very Good</td>\n",
       "      <td>Excellent</td>\n",
       "      <td>Excellent</td>\n",
       "    </tr>\n",
       "    <tr>\n",
       "      <th>votes</th>\n",
       "      <td>469</td>\n",
       "      <td>867</td>\n",
       "      <td>858</td>\n",
       "      <td>930</td>\n",
       "      <td>935</td>\n",
       "    </tr>\n",
       "    <tr>\n",
       "      <th>country_name</th>\n",
       "      <td>Philippines</td>\n",
       "      <td>Philippines</td>\n",
       "      <td>Philippines</td>\n",
       "      <td>Philippines</td>\n",
       "      <td>Philippines</td>\n",
       "    </tr>\n",
       "    <tr>\n",
       "      <th>price_category</th>\n",
       "      <td>gourmet</td>\n",
       "      <td>expensive</td>\n",
       "      <td>expensive</td>\n",
       "      <td>expensive</td>\n",
       "      <td>expensive</td>\n",
       "    </tr>\n",
       "    <tr>\n",
       "      <th>rating_color_name</th>\n",
       "      <td>darkgreen</td>\n",
       "      <td>green</td>\n",
       "      <td>green</td>\n",
       "      <td>darkgreen</td>\n",
       "      <td>darkgreen</td>\n",
       "    </tr>\n",
       "    <tr>\n",
       "      <th>average_cost_for_two_brl</th>\n",
       "      <td>1116.0</td>\n",
       "      <td>288.0</td>\n",
       "      <td>252.0</td>\n",
       "      <td>252.0</td>\n",
       "      <td>468.0</td>\n",
       "    </tr>\n",
       "  </tbody>\n",
       "</table>\n",
       "</div>"
      ],
      "text/plain": [
       "                                                                          0  \\\n",
       "restaurant_id                                                       6314542   \n",
       "restaurant_name                                                   Blackbird   \n",
       "country_code                                                            162   \n",
       "city                                                            Makati City   \n",
       "address                   Nielson Tower, Ayala Triangle Gardens, Salcedo...   \n",
       "locality                  Ayala Triangle Gardens, Salcedo Village, Makat...   \n",
       "locality_verbose          Ayala Triangle Gardens, Salcedo Village, Makat...   \n",
       "longitude                                                        121.024562   \n",
       "latitude                                                          14.556042   \n",
       "cuisines                                                           European   \n",
       "average_cost_for_two                                                   3100   \n",
       "currency                                                   Botswana Pula(P)   \n",
       "has_table_booking                                                         0   \n",
       "has_online_delivery                                                       0   \n",
       "is_delivering_now                                                         0   \n",
       "price_range                                                               4   \n",
       "aggregate_rating                                                        4.7   \n",
       "rating_color                                                         3F7E00   \n",
       "rating_text                                                       Excellent   \n",
       "votes                                                                   469   \n",
       "country_name                                                    Philippines   \n",
       "price_category                                                      gourmet   \n",
       "rating_color_name                                                 darkgreen   \n",
       "average_cost_for_two_brl                                             1116.0   \n",
       "\n",
       "                                                                          1  \\\n",
       "restaurant_id                                                       6301293   \n",
       "restaurant_name                                                    Banapple   \n",
       "country_code                                                            162   \n",
       "city                                                            Makati City   \n",
       "address                   Ayala Triangle Gardens, Salcedo Village, Makat...   \n",
       "locality                  Ayala Triangle Gardens, Salcedo Village, Makat...   \n",
       "locality_verbose          Ayala Triangle Gardens, Salcedo Village, Makat...   \n",
       "longitude                                                        121.023171   \n",
       "latitude                                                          14.556196   \n",
       "cuisines                                                           Filipino   \n",
       "average_cost_for_two                                                    800   \n",
       "currency                                                   Botswana Pula(P)   \n",
       "has_table_booking                                                         0   \n",
       "has_online_delivery                                                       0   \n",
       "is_delivering_now                                                         0   \n",
       "price_range                                                               3   \n",
       "aggregate_rating                                                        4.4   \n",
       "rating_color                                                         5BA829   \n",
       "rating_text                                                       Very Good   \n",
       "votes                                                                   867   \n",
       "country_name                                                    Philippines   \n",
       "price_category                                                    expensive   \n",
       "rating_color_name                                                     green   \n",
       "average_cost_for_two_brl                                              288.0   \n",
       "\n",
       "                                                                          2  \\\n",
       "restaurant_id                                                       6315689   \n",
       "restaurant_name                                                    Bad Bird   \n",
       "country_code                                                            162   \n",
       "city                                                            Makati City   \n",
       "address                   Hole In The Wall, Floor 4, Century City Mall, ...   \n",
       "locality                          Century City Mall, Poblacion, Makati City   \n",
       "locality_verbose          Century City Mall, Poblacion, Makati City, Mak...   \n",
       "longitude                                                        121.027708   \n",
       "latitude                                                          14.565899   \n",
       "cuisines                                                           American   \n",
       "average_cost_for_two                                                    700   \n",
       "currency                                                   Botswana Pula(P)   \n",
       "has_table_booking                                                         0   \n",
       "has_online_delivery                                                       0   \n",
       "is_delivering_now                                                         0   \n",
       "price_range                                                               3   \n",
       "aggregate_rating                                                        4.4   \n",
       "rating_color                                                         5BA829   \n",
       "rating_text                                                       Very Good   \n",
       "votes                                                                   858   \n",
       "country_name                                                    Philippines   \n",
       "price_category                                                    expensive   \n",
       "rating_color_name                                                     green   \n",
       "average_cost_for_two_brl                                              252.0   \n",
       "\n",
       "                                                                          3  \\\n",
       "restaurant_id                                                       6304833   \n",
       "restaurant_name                                                       Manam   \n",
       "country_code                                                            162   \n",
       "city                                                            Makati City   \n",
       "address                   Level 1, Greenbelt 2, Ayala Center, Greenbelt,...   \n",
       "locality                              Greenbelt 2, San Lorenzo, Makati City   \n",
       "locality_verbose          Greenbelt 2, San Lorenzo, Makati City, Makati ...   \n",
       "longitude                                                         121.02038   \n",
       "latitude                                                          14.552351   \n",
       "cuisines                                                           Filipino   \n",
       "average_cost_for_two                                                    700   \n",
       "currency                                                   Botswana Pula(P)   \n",
       "has_table_booking                                                         0   \n",
       "has_online_delivery                                                       0   \n",
       "is_delivering_now                                                         0   \n",
       "price_range                                                               3   \n",
       "aggregate_rating                                                        4.7   \n",
       "rating_color                                                         3F7E00   \n",
       "rating_text                                                       Excellent   \n",
       "votes                                                                   930   \n",
       "country_name                                                    Philippines   \n",
       "price_category                                                    expensive   \n",
       "rating_color_name                                                 darkgreen   \n",
       "average_cost_for_two_brl                                              252.0   \n",
       "\n",
       "                                                                          4  \n",
       "restaurant_id                                                      18409457  \n",
       "restaurant_name                                          Soban K-Town Grill  \n",
       "country_code                                                            162  \n",
       "city                                                            Makati City  \n",
       "address                   Level 3, Greenbelt 3, Ayala Center, Greenbelt,...  \n",
       "locality                              Greenbelt 3, San Lorenzo, Makati City  \n",
       "locality_verbose          Greenbelt 3, San Lorenzo, Makati City, Makati ...  \n",
       "longitude                                                        121.021388  \n",
       "latitude                                                          14.552248  \n",
       "cuisines                                                             Korean  \n",
       "average_cost_for_two                                                   1300  \n",
       "currency                                                   Botswana Pula(P)  \n",
       "has_table_booking                                                         0  \n",
       "has_online_delivery                                                       0  \n",
       "is_delivering_now                                                         0  \n",
       "price_range                                                               3  \n",
       "aggregate_rating                                                        4.7  \n",
       "rating_color                                                         3F7E00  \n",
       "rating_text                                                       Excellent  \n",
       "votes                                                                   935  \n",
       "country_name                                                    Philippines  \n",
       "price_category                                                    expensive  \n",
       "rating_color_name                                                 darkgreen  \n",
       "average_cost_for_two_brl                                              468.0  "
      ]
     },
     "execution_count": 13,
     "metadata": {},
     "output_type": "execute_result"
    }
   ],
   "source": [
    "df.head().T"
   ]
  },
  {
   "cell_type": "markdown",
   "id": "fb8b4e2d-71d5-4fb2-850d-03d0c98af423",
   "metadata": {
    "jp-MarkdownHeadingCollapsed": true
   },
   "source": [
    "# Análise Geral"
   ]
  },
  {
   "cell_type": "markdown",
   "id": "b4342a1f-3dd5-4628-ba2d-57e0146118f2",
   "metadata": {},
   "source": [
    "## 1. Quantos restaurantes únicos estão registrados?"
   ]
  },
  {
   "cell_type": "code",
   "execution_count": 21,
   "id": "8fe9566d-ddcc-4f80-84a6-906619c660a8",
   "metadata": {},
   "outputs": [
    {
     "data": {
      "text/plain": [
       "6927"
      ]
     },
     "execution_count": 21,
     "metadata": {},
     "output_type": "execute_result"
    }
   ],
   "source": [
    "df['restaurant_id'].nunique()"
   ]
  },
  {
   "cell_type": "markdown",
   "id": "b1180918-036b-4518-b7b0-f9ea420d1bd2",
   "metadata": {},
   "source": [
    "## 2. Quantos países únicos estão registrados?"
   ]
  },
  {
   "cell_type": "code",
   "execution_count": 22,
   "id": "eb378cc2-9b94-4682-921e-a1c238e159f6",
   "metadata": {},
   "outputs": [
    {
     "data": {
      "text/plain": [
       "15"
      ]
     },
     "execution_count": 22,
     "metadata": {},
     "output_type": "execute_result"
    }
   ],
   "source": [
    "df['country_name'].nunique()"
   ]
  },
  {
   "cell_type": "markdown",
   "id": "1a7b12ed-12c8-4d68-9448-6c630d03cd8d",
   "metadata": {},
   "source": [
    "## 3. Quantas cidades únicas estão registradas?"
   ]
  },
  {
   "cell_type": "code",
   "execution_count": 23,
   "id": "ff8cb132-002f-4ecc-bae8-942f5ac87be3",
   "metadata": {},
   "outputs": [
    {
     "data": {
      "text/plain": [
       "124"
      ]
     },
     "execution_count": 23,
     "metadata": {},
     "output_type": "execute_result"
    }
   ],
   "source": [
    "df['city'].nunique()"
   ]
  },
  {
   "cell_type": "markdown",
   "id": "f854d3b6-ae8a-4dba-841b-22721c32d95b",
   "metadata": {},
   "source": [
    "## 4. Qual o total de avaliações feitas?"
   ]
  },
  {
   "cell_type": "code",
   "execution_count": 24,
   "id": "e5ec61bd-14d2-4043-8f1a-cdb3a3b87c38",
   "metadata": {},
   "outputs": [
    {
     "data": {
      "text/plain": [
       "4193711"
      ]
     },
     "execution_count": 24,
     "metadata": {},
     "output_type": "execute_result"
    }
   ],
   "source": [
    "df['votes'].sum()"
   ]
  },
  {
   "cell_type": "markdown",
   "id": "fe10f729-09a8-4fd5-bf30-a51f34bcf73c",
   "metadata": {},
   "source": [
    "## 5. Qual o total de tipos de culinária registrados?"
   ]
  },
  {
   "cell_type": "code",
   "execution_count": 25,
   "id": "b5fd4516-b385-4cb8-acdb-562959d78a8c",
   "metadata": {},
   "outputs": [
    {
     "data": {
      "text/plain": [
       "165"
      ]
     },
     "execution_count": 25,
     "metadata": {},
     "output_type": "execute_result"
    }
   ],
   "source": [
    "df['cuisines'].nunique()"
   ]
  },
  {
   "cell_type": "markdown",
   "id": "c3e50119-97cd-47c3-bff9-d9bb338a076a",
   "metadata": {
    "jp-MarkdownHeadingCollapsed": true
   },
   "source": [
    "# Análise Países"
   ]
  },
  {
   "cell_type": "markdown",
   "id": "3fd47332-d38e-4c22-bf82-f22ab27ddc83",
   "metadata": {},
   "source": [
    "## 1. Qual o nome do país que possui mais cidades registradas?"
   ]
  },
  {
   "cell_type": "code",
   "execution_count": 26,
   "id": "af97c027-7679-4995-9499-e9e40fcbabb6",
   "metadata": {},
   "outputs": [
    {
     "data": {
      "text/html": [
       "<div>\n",
       "<style scoped>\n",
       "    .dataframe tbody tr th:only-of-type {\n",
       "        vertical-align: middle;\n",
       "    }\n",
       "\n",
       "    .dataframe tbody tr th {\n",
       "        vertical-align: top;\n",
       "    }\n",
       "\n",
       "    .dataframe thead th {\n",
       "        text-align: right;\n",
       "    }\n",
       "</style>\n",
       "<table border=\"1\" class=\"dataframe\">\n",
       "  <thead>\n",
       "    <tr style=\"text-align: right;\">\n",
       "      <th></th>\n",
       "      <th>country_name</th>\n",
       "      <th>city</th>\n",
       "    </tr>\n",
       "  </thead>\n",
       "  <tbody>\n",
       "    <tr>\n",
       "      <th>0</th>\n",
       "      <td>India</td>\n",
       "      <td>49</td>\n",
       "    </tr>\n",
       "  </tbody>\n",
       "</table>\n",
       "</div>"
      ],
      "text/plain": [
       "  country_name  city\n",
       "0        India    49"
      ]
     },
     "execution_count": 26,
     "metadata": {},
     "output_type": "execute_result"
    }
   ],
   "source": [
    "cols = ['country_name','city']\n",
    "df[cols].groupby('country_name').nunique().sort_values('city', ascending=False).reset_index().head(1)"
   ]
  },
  {
   "cell_type": "markdown",
   "id": "5d121ca3-801d-427b-8e22-6db016a77849",
   "metadata": {},
   "source": [
    "## 2. Qual o nome do país que possui mais restaurantes registrados?"
   ]
  },
  {
   "cell_type": "code",
   "execution_count": 27,
   "id": "b25a152a-f1e5-4e80-9d6b-8b0e08ecf581",
   "metadata": {},
   "outputs": [
    {
     "data": {
      "text/html": [
       "<div>\n",
       "<style scoped>\n",
       "    .dataframe tbody tr th:only-of-type {\n",
       "        vertical-align: middle;\n",
       "    }\n",
       "\n",
       "    .dataframe tbody tr th {\n",
       "        vertical-align: top;\n",
       "    }\n",
       "\n",
       "    .dataframe thead th {\n",
       "        text-align: right;\n",
       "    }\n",
       "</style>\n",
       "<table border=\"1\" class=\"dataframe\">\n",
       "  <thead>\n",
       "    <tr style=\"text-align: right;\">\n",
       "      <th></th>\n",
       "      <th>country_name</th>\n",
       "      <th>restaurant_name</th>\n",
       "    </tr>\n",
       "  </thead>\n",
       "  <tbody>\n",
       "    <tr>\n",
       "      <th>0</th>\n",
       "      <td>India</td>\n",
       "      <td>2480</td>\n",
       "    </tr>\n",
       "  </tbody>\n",
       "</table>\n",
       "</div>"
      ],
      "text/plain": [
       "  country_name  restaurant_name\n",
       "0        India             2480"
      ]
     },
     "execution_count": 27,
     "metadata": {},
     "output_type": "execute_result"
    }
   ],
   "source": [
    "cols = ['country_name','restaurant_name']\n",
    "df[cols].groupby('country_name').nunique().sort_values('restaurant_name', ascending=False).reset_index().head(1)"
   ]
  },
  {
   "cell_type": "markdown",
   "id": "41e58e95-b493-4f73-b8fe-a7dc7cdf0328",
   "metadata": {},
   "source": [
    "## 3. Qual o nome do país que possui mais restaurantes com o nível de preço igual a 4 registrados?\n"
   ]
  },
  {
   "cell_type": "code",
   "execution_count": 28,
   "id": "d5bbb252-a354-4899-8630-e8b83074fa8f",
   "metadata": {},
   "outputs": [
    {
     "data": {
      "text/html": [
       "<div>\n",
       "<style scoped>\n",
       "    .dataframe tbody tr th:only-of-type {\n",
       "        vertical-align: middle;\n",
       "    }\n",
       "\n",
       "    .dataframe tbody tr th {\n",
       "        vertical-align: top;\n",
       "    }\n",
       "\n",
       "    .dataframe thead th {\n",
       "        text-align: right;\n",
       "    }\n",
       "</style>\n",
       "<table border=\"1\" class=\"dataframe\">\n",
       "  <thead>\n",
       "    <tr style=\"text-align: right;\">\n",
       "      <th></th>\n",
       "      <th>country_name</th>\n",
       "      <th>price_range</th>\n",
       "    </tr>\n",
       "  </thead>\n",
       "  <tbody>\n",
       "    <tr>\n",
       "      <th>0</th>\n",
       "      <td>United States of America</td>\n",
       "      <td>415</td>\n",
       "    </tr>\n",
       "  </tbody>\n",
       "</table>\n",
       "</div>"
      ],
      "text/plain": [
       "               country_name  price_range\n",
       "0  United States of America          415"
      ]
     },
     "execution_count": 28,
     "metadata": {},
     "output_type": "execute_result"
    }
   ],
   "source": [
    "cols = ['country_name','price_range']\n",
    "df[df['price_range']==4][cols].groupby('country_name').count().sort_values('price_range', ascending=False).reset_index().head(1)"
   ]
  },
  {
   "cell_type": "markdown",
   "id": "f45fcafc-760b-4696-bb2e-86f406dbb506",
   "metadata": {},
   "source": [
    "## 4. Qual o nome do país que possui a maior quantidade de tipos de culinária distintos?"
   ]
  },
  {
   "cell_type": "code",
   "execution_count": 29,
   "id": "912f3979-317f-4720-8832-56c584cf66a8",
   "metadata": {},
   "outputs": [
    {
     "data": {
      "text/html": [
       "<div>\n",
       "<style scoped>\n",
       "    .dataframe tbody tr th:only-of-type {\n",
       "        vertical-align: middle;\n",
       "    }\n",
       "\n",
       "    .dataframe tbody tr th {\n",
       "        vertical-align: top;\n",
       "    }\n",
       "\n",
       "    .dataframe thead th {\n",
       "        text-align: right;\n",
       "    }\n",
       "</style>\n",
       "<table border=\"1\" class=\"dataframe\">\n",
       "  <thead>\n",
       "    <tr style=\"text-align: right;\">\n",
       "      <th></th>\n",
       "      <th>country_name</th>\n",
       "      <th>cuisines</th>\n",
       "    </tr>\n",
       "  </thead>\n",
       "  <tbody>\n",
       "    <tr>\n",
       "      <th>0</th>\n",
       "      <td>India</td>\n",
       "      <td>77</td>\n",
       "    </tr>\n",
       "  </tbody>\n",
       "</table>\n",
       "</div>"
      ],
      "text/plain": [
       "  country_name  cuisines\n",
       "0        India        77"
      ]
     },
     "execution_count": 29,
     "metadata": {},
     "output_type": "execute_result"
    }
   ],
   "source": [
    "cols = ['country_name','cuisines']\n",
    "df[cols].groupby('country_name').nunique().sort_values('cuisines', ascending=False).reset_index().head(1)"
   ]
  },
  {
   "cell_type": "markdown",
   "id": "eb80944b-d8b1-4dfb-a00c-19383515c398",
   "metadata": {},
   "source": [
    "## 5. Qual o nome do país que possui a maior quantidade de avaliações feitas?"
   ]
  },
  {
   "cell_type": "code",
   "execution_count": 30,
   "id": "a25e10f3-49f4-486e-a473-6734e7b2a504",
   "metadata": {},
   "outputs": [
    {
     "data": {
      "text/html": [
       "<div>\n",
       "<style scoped>\n",
       "    .dataframe tbody tr th:only-of-type {\n",
       "        vertical-align: middle;\n",
       "    }\n",
       "\n",
       "    .dataframe tbody tr th {\n",
       "        vertical-align: top;\n",
       "    }\n",
       "\n",
       "    .dataframe thead th {\n",
       "        text-align: right;\n",
       "    }\n",
       "</style>\n",
       "<table border=\"1\" class=\"dataframe\">\n",
       "  <thead>\n",
       "    <tr style=\"text-align: right;\">\n",
       "      <th></th>\n",
       "      <th>country_name</th>\n",
       "      <th>votes</th>\n",
       "    </tr>\n",
       "  </thead>\n",
       "  <tbody>\n",
       "    <tr>\n",
       "      <th>0</th>\n",
       "      <td>India</td>\n",
       "      <td>3111</td>\n",
       "    </tr>\n",
       "  </tbody>\n",
       "</table>\n",
       "</div>"
      ],
      "text/plain": [
       "  country_name  votes\n",
       "0        India   3111"
      ]
     },
     "execution_count": 30,
     "metadata": {},
     "output_type": "execute_result"
    }
   ],
   "source": [
    "cols = ['country_name','votes']\n",
    "df[cols].groupby('country_name').count().sort_values('votes', ascending=False).reset_index().head(1)"
   ]
  },
  {
   "cell_type": "markdown",
   "id": "85fdc6d7-0468-4609-98e1-c91077ade62d",
   "metadata": {},
   "source": [
    "## 6. Qual o nome do país que possui a maior quantidade de restaurantes que fazem entrega?"
   ]
  },
  {
   "cell_type": "code",
   "execution_count": 31,
   "id": "4d35f5f9-8268-4a66-94b7-4dcf07ea1f7e",
   "metadata": {},
   "outputs": [
    {
     "data": {
      "text/html": [
       "<div>\n",
       "<style scoped>\n",
       "    .dataframe tbody tr th:only-of-type {\n",
       "        vertical-align: middle;\n",
       "    }\n",
       "\n",
       "    .dataframe tbody tr th {\n",
       "        vertical-align: top;\n",
       "    }\n",
       "\n",
       "    .dataframe thead th {\n",
       "        text-align: right;\n",
       "    }\n",
       "</style>\n",
       "<table border=\"1\" class=\"dataframe\">\n",
       "  <thead>\n",
       "    <tr style=\"text-align: right;\">\n",
       "      <th></th>\n",
       "      <th>country_name</th>\n",
       "      <th>has_online_delivery</th>\n",
       "    </tr>\n",
       "  </thead>\n",
       "  <tbody>\n",
       "    <tr>\n",
       "      <th>0</th>\n",
       "      <td>India</td>\n",
       "      <td>2177</td>\n",
       "    </tr>\n",
       "  </tbody>\n",
       "</table>\n",
       "</div>"
      ],
      "text/plain": [
       "  country_name  has_online_delivery\n",
       "0        India                 2177"
      ]
     },
     "execution_count": 31,
     "metadata": {},
     "output_type": "execute_result"
    }
   ],
   "source": [
    "cols = ['country_name','has_online_delivery']\n",
    "df[df['has_online_delivery']==1][cols].groupby('country_name').count().sort_values('has_online_delivery', ascending=False).reset_index().head(1)"
   ]
  },
  {
   "cell_type": "markdown",
   "id": "05414196-49d7-490e-a890-19b970f2cca0",
   "metadata": {},
   "source": [
    "## 7. Qual o nome do país que possui a maior quantidade de restaurantes que aceitam reservas?"
   ]
  },
  {
   "cell_type": "code",
   "execution_count": 32,
   "id": "1f39dfb7-364c-4322-b7d5-cc7138d68ef1",
   "metadata": {},
   "outputs": [
    {
     "data": {
      "text/html": [
       "<div>\n",
       "<style scoped>\n",
       "    .dataframe tbody tr th:only-of-type {\n",
       "        vertical-align: middle;\n",
       "    }\n",
       "\n",
       "    .dataframe tbody tr th {\n",
       "        vertical-align: top;\n",
       "    }\n",
       "\n",
       "    .dataframe thead th {\n",
       "        text-align: right;\n",
       "    }\n",
       "</style>\n",
       "<table border=\"1\" class=\"dataframe\">\n",
       "  <thead>\n",
       "    <tr style=\"text-align: right;\">\n",
       "      <th></th>\n",
       "      <th>country_name</th>\n",
       "      <th>has_table_booking</th>\n",
       "    </tr>\n",
       "  </thead>\n",
       "  <tbody>\n",
       "    <tr>\n",
       "      <th>0</th>\n",
       "      <td>India</td>\n",
       "      <td>256</td>\n",
       "    </tr>\n",
       "  </tbody>\n",
       "</table>\n",
       "</div>"
      ],
      "text/plain": [
       "  country_name  has_table_booking\n",
       "0        India                256"
      ]
     },
     "execution_count": 32,
     "metadata": {},
     "output_type": "execute_result"
    }
   ],
   "source": [
    "cols = ['country_name','has_table_booking']\n",
    "df[df['has_table_booking']==1][cols].groupby('country_name').count().sort_values('has_table_booking', ascending=False).reset_index().head(1)"
   ]
  },
  {
   "cell_type": "markdown",
   "id": "840c8cea-7f88-45af-b98d-595a6a4b0e4d",
   "metadata": {},
   "source": [
    "## 8. Qual o nome do país que possui, na média, a maior quantidade de avaliações registrada?"
   ]
  },
  {
   "cell_type": "code",
   "execution_count": 33,
   "id": "a3582eb8-ac7e-49f3-aa86-69193160fa98",
   "metadata": {},
   "outputs": [
    {
     "data": {
      "text/html": [
       "<div>\n",
       "<style scoped>\n",
       "    .dataframe tbody tr th:only-of-type {\n",
       "        vertical-align: middle;\n",
       "    }\n",
       "\n",
       "    .dataframe tbody tr th {\n",
       "        vertical-align: top;\n",
       "    }\n",
       "\n",
       "    .dataframe thead th {\n",
       "        text-align: right;\n",
       "    }\n",
       "</style>\n",
       "<table border=\"1\" class=\"dataframe\">\n",
       "  <thead>\n",
       "    <tr style=\"text-align: right;\">\n",
       "      <th></th>\n",
       "      <th>country_name</th>\n",
       "      <th>votes</th>\n",
       "    </tr>\n",
       "  </thead>\n",
       "  <tbody>\n",
       "    <tr>\n",
       "      <th>0</th>\n",
       "      <td>Indonesia</td>\n",
       "      <td>1112.825</td>\n",
       "    </tr>\n",
       "  </tbody>\n",
       "</table>\n",
       "</div>"
      ],
      "text/plain": [
       "  country_name     votes\n",
       "0    Indonesia  1112.825"
      ]
     },
     "execution_count": 33,
     "metadata": {},
     "output_type": "execute_result"
    }
   ],
   "source": [
    "cols = ['country_name','votes']\n",
    "df[cols].groupby('country_name').mean().sort_values('votes', ascending=False).reset_index().head(1)"
   ]
  },
  {
   "cell_type": "markdown",
   "id": "5198f73c-9853-4419-b449-9a22c302609e",
   "metadata": {},
   "source": [
    "## 9. Qual o nome do país que possui, na média, a maior nota média registrada?"
   ]
  },
  {
   "cell_type": "code",
   "execution_count": 34,
   "id": "ccc73d8e-6372-488e-9630-7461560dd4cc",
   "metadata": {},
   "outputs": [
    {
     "data": {
      "text/html": [
       "<div>\n",
       "<style scoped>\n",
       "    .dataframe tbody tr th:only-of-type {\n",
       "        vertical-align: middle;\n",
       "    }\n",
       "\n",
       "    .dataframe tbody tr th {\n",
       "        vertical-align: top;\n",
       "    }\n",
       "\n",
       "    .dataframe thead th {\n",
       "        text-align: right;\n",
       "    }\n",
       "</style>\n",
       "<table border=\"1\" class=\"dataframe\">\n",
       "  <thead>\n",
       "    <tr style=\"text-align: right;\">\n",
       "      <th></th>\n",
       "      <th>country_name</th>\n",
       "      <th>aggregate_rating</th>\n",
       "    </tr>\n",
       "  </thead>\n",
       "  <tbody>\n",
       "    <tr>\n",
       "      <th>0</th>\n",
       "      <td>Indonesia</td>\n",
       "      <td>4.60125</td>\n",
       "    </tr>\n",
       "  </tbody>\n",
       "</table>\n",
       "</div>"
      ],
      "text/plain": [
       "  country_name  aggregate_rating\n",
       "0    Indonesia           4.60125"
      ]
     },
     "execution_count": 34,
     "metadata": {},
     "output_type": "execute_result"
    }
   ],
   "source": [
    "cols = ['country_name','aggregate_rating']\n",
    "df[cols].groupby('country_name').mean().sort_values('aggregate_rating', ascending=False).reset_index().head(1)"
   ]
  },
  {
   "cell_type": "markdown",
   "id": "69588fac-4b17-4441-8491-a4cd868e6028",
   "metadata": {},
   "source": [
    "## 10. Qual o nome do país que possui, na média, a menor nota média registrada?"
   ]
  },
  {
   "cell_type": "code",
   "execution_count": 35,
   "id": "ba943f5d-8cda-4c82-b2d2-c06c4191a88b",
   "metadata": {},
   "outputs": [
    {
     "data": {
      "text/html": [
       "<div>\n",
       "<style scoped>\n",
       "    .dataframe tbody tr th:only-of-type {\n",
       "        vertical-align: middle;\n",
       "    }\n",
       "\n",
       "    .dataframe tbody tr th {\n",
       "        vertical-align: top;\n",
       "    }\n",
       "\n",
       "    .dataframe thead th {\n",
       "        text-align: right;\n",
       "    }\n",
       "</style>\n",
       "<table border=\"1\" class=\"dataframe\">\n",
       "  <thead>\n",
       "    <tr style=\"text-align: right;\">\n",
       "      <th></th>\n",
       "      <th>country_name</th>\n",
       "      <th>aggregate_rating</th>\n",
       "    </tr>\n",
       "  </thead>\n",
       "  <tbody>\n",
       "    <tr>\n",
       "      <th>0</th>\n",
       "      <td>Brazil</td>\n",
       "      <td>3.321667</td>\n",
       "    </tr>\n",
       "  </tbody>\n",
       "</table>\n",
       "</div>"
      ],
      "text/plain": [
       "  country_name  aggregate_rating\n",
       "0       Brazil          3.321667"
      ]
     },
     "execution_count": 35,
     "metadata": {},
     "output_type": "execute_result"
    }
   ],
   "source": [
    "cols = ['country_name','aggregate_rating']\n",
    "df[cols].groupby('country_name').mean().sort_values('aggregate_rating', ascending=True).reset_index().head(1)"
   ]
  },
  {
   "cell_type": "markdown",
   "id": "eb2f064b-23ec-42e8-97bf-0ec2247bbfee",
   "metadata": {},
   "source": [
    "## 11. Qual a média de preço de um prato para dois por país?"
   ]
  },
  {
   "cell_type": "code",
   "execution_count": 36,
   "id": "2dd55d46-2f4b-4a59-966b-1eabe0f97285",
   "metadata": {},
   "outputs": [
    {
     "data": {
      "text/html": [
       "<div>\n",
       "<style scoped>\n",
       "    .dataframe tbody tr th:only-of-type {\n",
       "        vertical-align: middle;\n",
       "    }\n",
       "\n",
       "    .dataframe tbody tr th {\n",
       "        vertical-align: top;\n",
       "    }\n",
       "\n",
       "    .dataframe thead th {\n",
       "        text-align: right;\n",
       "    }\n",
       "</style>\n",
       "<table border=\"1\" class=\"dataframe\">\n",
       "  <thead>\n",
       "    <tr style=\"text-align: right;\">\n",
       "      <th></th>\n",
       "      <th>country_name</th>\n",
       "      <th>average_cost_for_two_brl</th>\n",
       "    </tr>\n",
       "  </thead>\n",
       "  <tbody>\n",
       "    <tr>\n",
       "      <th>0</th>\n",
       "      <td>Singapure</td>\n",
       "      <td>695.872500</td>\n",
       "    </tr>\n",
       "    <tr>\n",
       "      <th>1</th>\n",
       "      <td>Philippines</td>\n",
       "      <td>442.599494</td>\n",
       "    </tr>\n",
       "    <tr>\n",
       "      <th>2</th>\n",
       "      <td>Australia</td>\n",
       "      <td>350.282011</td>\n",
       "    </tr>\n",
       "    <tr>\n",
       "      <th>3</th>\n",
       "      <td>England</td>\n",
       "      <td>272.807700</td>\n",
       "    </tr>\n",
       "    <tr>\n",
       "      <th>4</th>\n",
       "      <td>United States of America</td>\n",
       "      <td>270.746812</td>\n",
       "    </tr>\n",
       "    <tr>\n",
       "      <th>5</th>\n",
       "      <td>Qatar</td>\n",
       "      <td>234.900000</td>\n",
       "    </tr>\n",
       "    <tr>\n",
       "      <th>6</th>\n",
       "      <td>United Arab Emirates</td>\n",
       "      <td>205.980333</td>\n",
       "    </tr>\n",
       "    <tr>\n",
       "      <th>7</th>\n",
       "      <td>Canada</td>\n",
       "      <td>205.956667</td>\n",
       "    </tr>\n",
       "    <tr>\n",
       "      <th>8</th>\n",
       "      <td>New Zeland</td>\n",
       "      <td>188.329079</td>\n",
       "    </tr>\n",
       "    <tr>\n",
       "      <th>9</th>\n",
       "      <td>Brazil</td>\n",
       "      <td>138.812500</td>\n",
       "    </tr>\n",
       "    <tr>\n",
       "      <th>10</th>\n",
       "      <td>Indonesia</td>\n",
       "      <td>96.960000</td>\n",
       "    </tr>\n",
       "    <tr>\n",
       "      <th>11</th>\n",
       "      <td>South Africa</td>\n",
       "      <td>88.199364</td>\n",
       "    </tr>\n",
       "    <tr>\n",
       "      <th>12</th>\n",
       "      <td>India</td>\n",
       "      <td>41.559630</td>\n",
       "    </tr>\n",
       "    <tr>\n",
       "      <th>13</th>\n",
       "      <td>Sri Lanka</td>\n",
       "      <td>41.270000</td>\n",
       "    </tr>\n",
       "    <tr>\n",
       "      <th>14</th>\n",
       "      <td>Turkey</td>\n",
       "      <td>24.431132</td>\n",
       "    </tr>\n",
       "  </tbody>\n",
       "</table>\n",
       "</div>"
      ],
      "text/plain": [
       "                country_name  average_cost_for_two_brl\n",
       "0                  Singapure                695.872500\n",
       "1                Philippines                442.599494\n",
       "2                  Australia                350.282011\n",
       "3                    England                272.807700\n",
       "4   United States of America                270.746812\n",
       "5                      Qatar                234.900000\n",
       "6       United Arab Emirates                205.980333\n",
       "7                     Canada                205.956667\n",
       "8                 New Zeland                188.329079\n",
       "9                     Brazil                138.812500\n",
       "10                 Indonesia                 96.960000\n",
       "11              South Africa                 88.199364\n",
       "12                     India                 41.559630\n",
       "13                 Sri Lanka                 41.270000\n",
       "14                    Turkey                 24.431132"
      ]
     },
     "execution_count": 36,
     "metadata": {},
     "output_type": "execute_result"
    }
   ],
   "source": [
    "cols = ['country_name','average_cost_for_two_brl']\n",
    "df[cols].groupby('country_name').mean().sort_values('average_cost_for_two_brl', ascending=False).reset_index()"
   ]
  },
  {
   "cell_type": "markdown",
   "id": "72d942e4-6ba9-4580-8185-c074b3aaece7",
   "metadata": {
    "jp-MarkdownHeadingCollapsed": true
   },
   "source": [
    "# Análise Cidades"
   ]
  },
  {
   "cell_type": "markdown",
   "id": "29f1a742-0ccc-4b51-9550-b5c6b145afd0",
   "metadata": {},
   "source": [
    "## 1. Qual o nome da cidade que possui mais restaurantes registrados?"
   ]
  },
  {
   "cell_type": "code",
   "execution_count": 37,
   "id": "f8014024-464a-4e8d-a70f-23d9bd41ec71",
   "metadata": {},
   "outputs": [
    {
     "data": {
      "text/html": [
       "<div>\n",
       "<style scoped>\n",
       "    .dataframe tbody tr th:only-of-type {\n",
       "        vertical-align: middle;\n",
       "    }\n",
       "\n",
       "    .dataframe tbody tr th {\n",
       "        vertical-align: top;\n",
       "    }\n",
       "\n",
       "    .dataframe thead th {\n",
       "        text-align: right;\n",
       "    }\n",
       "</style>\n",
       "<table border=\"1\" class=\"dataframe\">\n",
       "  <thead>\n",
       "    <tr style=\"text-align: right;\">\n",
       "      <th></th>\n",
       "      <th>city</th>\n",
       "      <th>restaurant_name</th>\n",
       "    </tr>\n",
       "  </thead>\n",
       "  <tbody>\n",
       "    <tr>\n",
       "      <th>0</th>\n",
       "      <td>Singapore</td>\n",
       "      <td>80</td>\n",
       "    </tr>\n",
       "  </tbody>\n",
       "</table>\n",
       "</div>"
      ],
      "text/plain": [
       "        city  restaurant_name\n",
       "0  Singapore               80"
      ]
     },
     "execution_count": 37,
     "metadata": {},
     "output_type": "execute_result"
    }
   ],
   "source": [
    "cols = ['city','restaurant_name']\n",
    "df[cols].groupby('city').nunique().sort_values('restaurant_name', ascending=False).reset_index().head(1)"
   ]
  },
  {
   "cell_type": "markdown",
   "id": "d4e73a41-e587-48b8-a300-ac8e68956e65",
   "metadata": {},
   "source": [
    "## 2. Qual o nome da cidade que possui mais restaurantes com nota média acima de 4?"
   ]
  },
  {
   "cell_type": "code",
   "execution_count": 38,
   "id": "d758950d-9d74-4b3a-9fb5-1d68a6bcb44c",
   "metadata": {},
   "outputs": [
    {
     "data": {
      "text/html": [
       "<div>\n",
       "<style scoped>\n",
       "    .dataframe tbody tr th:only-of-type {\n",
       "        vertical-align: middle;\n",
       "    }\n",
       "\n",
       "    .dataframe tbody tr th {\n",
       "        vertical-align: top;\n",
       "    }\n",
       "\n",
       "    .dataframe thead th {\n",
       "        text-align: right;\n",
       "    }\n",
       "</style>\n",
       "<table border=\"1\" class=\"dataframe\">\n",
       "  <thead>\n",
       "    <tr style=\"text-align: right;\">\n",
       "      <th></th>\n",
       "      <th>city</th>\n",
       "      <th>aggregate_rating</th>\n",
       "    </tr>\n",
       "  </thead>\n",
       "  <tbody>\n",
       "    <tr>\n",
       "      <th>0</th>\n",
       "      <td>Bangalore</td>\n",
       "      <td>79</td>\n",
       "    </tr>\n",
       "  </tbody>\n",
       "</table>\n",
       "</div>"
      ],
      "text/plain": [
       "        city  aggregate_rating\n",
       "0  Bangalore                79"
      ]
     },
     "execution_count": 38,
     "metadata": {},
     "output_type": "execute_result"
    }
   ],
   "source": [
    "cols = ['city','aggregate_rating']\n",
    "df[cols][df['aggregate_rating'] > 4].groupby('city').count().sort_values('aggregate_rating', ascending=False).reset_index().head(1)"
   ]
  },
  {
   "cell_type": "markdown",
   "id": "88d6baf6-1b6c-48fe-bcaa-7e43b4f00474",
   "metadata": {},
   "source": [
    "## 3. Qual o nome da cidade que possui mais restaurantes com nota média abaixo de 2.5?"
   ]
  },
  {
   "cell_type": "code",
   "execution_count": 39,
   "id": "cf26943d-99d8-40bb-8e8d-d6b092d7e1d5",
   "metadata": {},
   "outputs": [
    {
     "data": {
      "text/html": [
       "<div>\n",
       "<style scoped>\n",
       "    .dataframe tbody tr th:only-of-type {\n",
       "        vertical-align: middle;\n",
       "    }\n",
       "\n",
       "    .dataframe tbody tr th {\n",
       "        vertical-align: top;\n",
       "    }\n",
       "\n",
       "    .dataframe thead th {\n",
       "        text-align: right;\n",
       "    }\n",
       "</style>\n",
       "<table border=\"1\" class=\"dataframe\">\n",
       "  <thead>\n",
       "    <tr style=\"text-align: right;\">\n",
       "      <th></th>\n",
       "      <th>city</th>\n",
       "      <th>aggregate_rating</th>\n",
       "    </tr>\n",
       "  </thead>\n",
       "  <tbody>\n",
       "    <tr>\n",
       "      <th>0</th>\n",
       "      <td>Gangtok</td>\n",
       "      <td>33</td>\n",
       "    </tr>\n",
       "  </tbody>\n",
       "</table>\n",
       "</div>"
      ],
      "text/plain": [
       "      city  aggregate_rating\n",
       "0  Gangtok                33"
      ]
     },
     "execution_count": 39,
     "metadata": {},
     "output_type": "execute_result"
    }
   ],
   "source": [
    "cols = ['city','aggregate_rating']\n",
    "df[cols][df['aggregate_rating'] < 2.5].groupby('city').count().sort_values('aggregate_rating', ascending=False).reset_index().head(1)"
   ]
  },
  {
   "cell_type": "markdown",
   "id": "2cacdec7-7a9e-4951-ae29-2df215d1739b",
   "metadata": {},
   "source": [
    "## 4. Qual o nome da cidade que possui o maior valor médio de um prato para dois?"
   ]
  },
  {
   "cell_type": "code",
   "execution_count": 40,
   "id": "83972cbe-cba8-47c6-b62f-75f3840be0d4",
   "metadata": {},
   "outputs": [
    {
     "data": {
      "text/html": [
       "<div>\n",
       "<style scoped>\n",
       "    .dataframe tbody tr th:only-of-type {\n",
       "        vertical-align: middle;\n",
       "    }\n",
       "\n",
       "    .dataframe tbody tr th {\n",
       "        vertical-align: top;\n",
       "    }\n",
       "\n",
       "    .dataframe thead th {\n",
       "        text-align: right;\n",
       "    }\n",
       "</style>\n",
       "<table border=\"1\" class=\"dataframe\">\n",
       "  <thead>\n",
       "    <tr style=\"text-align: right;\">\n",
       "      <th></th>\n",
       "      <th>city</th>\n",
       "      <th>average_cost_for_two_brl</th>\n",
       "    </tr>\n",
       "  </thead>\n",
       "  <tbody>\n",
       "    <tr>\n",
       "      <th>0</th>\n",
       "      <td>Pasay City</td>\n",
       "      <td>1440.0</td>\n",
       "    </tr>\n",
       "  </tbody>\n",
       "</table>\n",
       "</div>"
      ],
      "text/plain": [
       "         city  average_cost_for_two_brl\n",
       "0  Pasay City                    1440.0"
      ]
     },
     "execution_count": 40,
     "metadata": {},
     "output_type": "execute_result"
    }
   ],
   "source": [
    "cols = ['city','average_cost_for_two_brl']\n",
    "df[cols].groupby('city').mean().sort_values('average_cost_for_two_brl', ascending=False).reset_index().head(1)"
   ]
  },
  {
   "cell_type": "markdown",
   "id": "d3dcc6d1-637e-454b-86f4-5debc9817927",
   "metadata": {},
   "source": [
    "## 5. Qual o nome da cidade que possui a maior quantidade de tipos de culinária distintas?"
   ]
  },
  {
   "cell_type": "code",
   "execution_count": 41,
   "id": "7de02aea-72db-4277-9e47-bfcbadbf23b1",
   "metadata": {},
   "outputs": [
    {
     "data": {
      "text/html": [
       "<div>\n",
       "<style scoped>\n",
       "    .dataframe tbody tr th:only-of-type {\n",
       "        vertical-align: middle;\n",
       "    }\n",
       "\n",
       "    .dataframe tbody tr th {\n",
       "        vertical-align: top;\n",
       "    }\n",
       "\n",
       "    .dataframe thead th {\n",
       "        text-align: right;\n",
       "    }\n",
       "</style>\n",
       "<table border=\"1\" class=\"dataframe\">\n",
       "  <thead>\n",
       "    <tr style=\"text-align: right;\">\n",
       "      <th></th>\n",
       "      <th>city</th>\n",
       "      <th>cuisines</th>\n",
       "    </tr>\n",
       "  </thead>\n",
       "  <tbody>\n",
       "    <tr>\n",
       "      <th>0</th>\n",
       "      <td>Birmingham</td>\n",
       "      <td>32</td>\n",
       "    </tr>\n",
       "  </tbody>\n",
       "</table>\n",
       "</div>"
      ],
      "text/plain": [
       "         city  cuisines\n",
       "0  Birmingham        32"
      ]
     },
     "execution_count": 41,
     "metadata": {},
     "output_type": "execute_result"
    }
   ],
   "source": [
    "cols = ['city','cuisines']\n",
    "df[cols].groupby('city').nunique().sort_values('cuisines', ascending=False).reset_index().head(1)"
   ]
  },
  {
   "cell_type": "markdown",
   "id": "6824145c-1673-4eed-a869-b196c6db6e41",
   "metadata": {},
   "source": [
    "## 6. Qual o nome da cidade que possui a maior quantidade de restaurantes que fazem reservas?"
   ]
  },
  {
   "cell_type": "code",
   "execution_count": 42,
   "id": "7697190d-2338-4347-b4c0-cf69d12eda45",
   "metadata": {},
   "outputs": [
    {
     "data": {
      "text/html": [
       "<div>\n",
       "<style scoped>\n",
       "    .dataframe tbody tr th:only-of-type {\n",
       "        vertical-align: middle;\n",
       "    }\n",
       "\n",
       "    .dataframe tbody tr th {\n",
       "        vertical-align: top;\n",
       "    }\n",
       "\n",
       "    .dataframe thead th {\n",
       "        text-align: right;\n",
       "    }\n",
       "</style>\n",
       "<table border=\"1\" class=\"dataframe\">\n",
       "  <thead>\n",
       "    <tr style=\"text-align: right;\">\n",
       "      <th></th>\n",
       "      <th>city</th>\n",
       "      <th>has_table_booking</th>\n",
       "    </tr>\n",
       "  </thead>\n",
       "  <tbody>\n",
       "    <tr>\n",
       "      <th>0</th>\n",
       "      <td>Bangalore</td>\n",
       "      <td>42</td>\n",
       "    </tr>\n",
       "  </tbody>\n",
       "</table>\n",
       "</div>"
      ],
      "text/plain": [
       "        city  has_table_booking\n",
       "0  Bangalore                 42"
      ]
     },
     "execution_count": 42,
     "metadata": {},
     "output_type": "execute_result"
    }
   ],
   "source": [
    "cols = ['city','has_table_booking']\n",
    "df[df['has_table_booking'] == 1].groupby('city')['has_table_booking'].count().sort_values(ascending=False).reset_index().head(1)"
   ]
  },
  {
   "cell_type": "markdown",
   "id": "75099462-5e7e-48aa-980f-de8434683f11",
   "metadata": {},
   "source": [
    "## 7. Qual o nome da cidade que possui a maior quantidade de restaurantes que fazem entregas?"
   ]
  },
  {
   "cell_type": "code",
   "execution_count": 43,
   "id": "1f1aace1-0284-4c31-9a78-f0f2e291a0d5",
   "metadata": {},
   "outputs": [
    {
     "data": {
      "text/html": [
       "<div>\n",
       "<style scoped>\n",
       "    .dataframe tbody tr th:only-of-type {\n",
       "        vertical-align: middle;\n",
       "    }\n",
       "\n",
       "    .dataframe tbody tr th {\n",
       "        vertical-align: top;\n",
       "    }\n",
       "\n",
       "    .dataframe thead th {\n",
       "        text-align: right;\n",
       "    }\n",
       "</style>\n",
       "<table border=\"1\" class=\"dataframe\">\n",
       "  <thead>\n",
       "    <tr style=\"text-align: right;\">\n",
       "      <th></th>\n",
       "      <th>city</th>\n",
       "      <th>is_delivering_now</th>\n",
       "    </tr>\n",
       "  </thead>\n",
       "  <tbody>\n",
       "    <tr>\n",
       "      <th>0</th>\n",
       "      <td>Vadodara</td>\n",
       "      <td>48</td>\n",
       "    </tr>\n",
       "  </tbody>\n",
       "</table>\n",
       "</div>"
      ],
      "text/plain": [
       "       city  is_delivering_now\n",
       "0  Vadodara                 48"
      ]
     },
     "execution_count": 43,
     "metadata": {},
     "output_type": "execute_result"
    }
   ],
   "source": [
    "cols = ['city','is_delivering_now']\n",
    "df[df['is_delivering_now'] == 1].groupby('city')['is_delivering_now'].count().sort_values(ascending=False).reset_index().head(1)"
   ]
  },
  {
   "cell_type": "markdown",
   "id": "88d5f5ed-8a2c-43c3-beb6-38b9dce68505",
   "metadata": {},
   "source": [
    "## 8. Qual o nome da cidade que possui a maior quantidade de restaurantes que aceitam pedidos online?"
   ]
  },
  {
   "cell_type": "code",
   "execution_count": 44,
   "id": "0535a18d-1088-425a-b2bd-efbd278d2ad1",
   "metadata": {},
   "outputs": [
    {
     "data": {
      "text/html": [
       "<div>\n",
       "<style scoped>\n",
       "    .dataframe tbody tr th:only-of-type {\n",
       "        vertical-align: middle;\n",
       "    }\n",
       "\n",
       "    .dataframe tbody tr th {\n",
       "        vertical-align: top;\n",
       "    }\n",
       "\n",
       "    .dataframe thead th {\n",
       "        text-align: right;\n",
       "    }\n",
       "</style>\n",
       "<table border=\"1\" class=\"dataframe\">\n",
       "  <thead>\n",
       "    <tr style=\"text-align: right;\">\n",
       "      <th></th>\n",
       "      <th>city</th>\n",
       "      <th>has_online_delivery</th>\n",
       "    </tr>\n",
       "  </thead>\n",
       "  <tbody>\n",
       "    <tr>\n",
       "      <th>0</th>\n",
       "      <td>Bhopal</td>\n",
       "      <td>75</td>\n",
       "    </tr>\n",
       "  </tbody>\n",
       "</table>\n",
       "</div>"
      ],
      "text/plain": [
       "     city  has_online_delivery\n",
       "0  Bhopal                   75"
      ]
     },
     "execution_count": 44,
     "metadata": {},
     "output_type": "execute_result"
    }
   ],
   "source": [
    "cols = ['city','has_online_delivery']\n",
    "df[df['has_online_delivery'] == 1].groupby('city')['has_online_delivery'].count().sort_values(ascending=False).reset_index().head(1)"
   ]
  },
  {
   "cell_type": "markdown",
   "id": "daa5f657-6d74-4c23-bf81-f09c696e685f",
   "metadata": {
    "jp-MarkdownHeadingCollapsed": true
   },
   "source": [
    "# Análise Tipos de Culinária"
   ]
  },
  {
   "cell_type": "markdown",
   "id": "c57cd0f2-353c-489c-a4ad-792e980b27cd",
   "metadata": {},
   "source": [
    "## 1. Dos restaurantes que possuem o tipo de culinária italiana, qual o nome do restaurante com a maior média de avaliação?"
   ]
  },
  {
   "cell_type": "code",
   "execution_count": 45,
   "id": "ce6efa86-3fa1-46f9-a3e8-dd0aa1d006f7",
   "metadata": {},
   "outputs": [
    {
     "data": {
      "text/html": [
       "<div>\n",
       "<style scoped>\n",
       "    .dataframe tbody tr th:only-of-type {\n",
       "        vertical-align: middle;\n",
       "    }\n",
       "\n",
       "    .dataframe tbody tr th {\n",
       "        vertical-align: top;\n",
       "    }\n",
       "\n",
       "    .dataframe thead th {\n",
       "        text-align: right;\n",
       "    }\n",
       "</style>\n",
       "<table border=\"1\" class=\"dataframe\">\n",
       "  <thead>\n",
       "    <tr style=\"text-align: right;\">\n",
       "      <th></th>\n",
       "      <th>restaurant_name</th>\n",
       "      <th>aggregate_rating</th>\n",
       "    </tr>\n",
       "  </thead>\n",
       "  <tbody>\n",
       "    <tr>\n",
       "      <th>0</th>\n",
       "      <td>Darshan</td>\n",
       "      <td>4.9</td>\n",
       "    </tr>\n",
       "  </tbody>\n",
       "</table>\n",
       "</div>"
      ],
      "text/plain": [
       "  restaurant_name  aggregate_rating\n",
       "0         Darshan               4.9"
      ]
     },
     "execution_count": 45,
     "metadata": {},
     "output_type": "execute_result"
    }
   ],
   "source": [
    "df[df['cuisines'] == 'Italian'].sort_values(['aggregate_rating','restaurant_id'], ascending=[False,True]).reset_index(drop=True).head(1)[['restaurant_name','aggregate_rating']]"
   ]
  },
  {
   "cell_type": "markdown",
   "id": "96609d99-5b49-4ab8-b429-f668442c43f0",
   "metadata": {},
   "source": [
    "## 2. Dos restaurantes que possuem o tipo de culinária italiana, qual o nome do restaurante com a menor média de avaliação?"
   ]
  },
  {
   "cell_type": "code",
   "execution_count": 46,
   "id": "1aa3570b-04a7-4451-ba41-9129ef0e7126",
   "metadata": {},
   "outputs": [
    {
     "data": {
      "text/html": [
       "<div>\n",
       "<style scoped>\n",
       "    .dataframe tbody tr th:only-of-type {\n",
       "        vertical-align: middle;\n",
       "    }\n",
       "\n",
       "    .dataframe tbody tr th {\n",
       "        vertical-align: top;\n",
       "    }\n",
       "\n",
       "    .dataframe thead th {\n",
       "        text-align: right;\n",
       "    }\n",
       "</style>\n",
       "<table border=\"1\" class=\"dataframe\">\n",
       "  <thead>\n",
       "    <tr style=\"text-align: right;\">\n",
       "      <th></th>\n",
       "      <th>restaurant_name</th>\n",
       "      <th>aggregate_rating</th>\n",
       "    </tr>\n",
       "  </thead>\n",
       "  <tbody>\n",
       "    <tr>\n",
       "      <th>0</th>\n",
       "      <td>Ristorantino</td>\n",
       "      <td>0.0</td>\n",
       "    </tr>\n",
       "  </tbody>\n",
       "</table>\n",
       "</div>"
      ],
      "text/plain": [
       "  restaurant_name  aggregate_rating\n",
       "0    Ristorantino               0.0"
      ]
     },
     "execution_count": 46,
     "metadata": {},
     "output_type": "execute_result"
    }
   ],
   "source": [
    "df[(df['cuisines'] == 'Italian') & (df['votes'] != 0)].sort_values(['aggregate_rating',\n",
    "                                                                    'restaurant_id'], ascending=[True,\n",
    "                                                                                                 True]).reset_index(drop=True).head(1)[['restaurant_name','aggregate_rating']]"
   ]
  },
  {
   "cell_type": "markdown",
   "id": "a2f93bab-be07-4cad-bf92-164ef1afab79",
   "metadata": {},
   "source": [
    "## 3. Dos restaurantes que possuem o tipo de culinária americana, qual o nome do restaurante com a maior média de avaliação?"
   ]
  },
  {
   "cell_type": "code",
   "execution_count": 47,
   "id": "7129c672-5f1e-4464-81f3-a4f19d0e579f",
   "metadata": {},
   "outputs": [
    {
     "data": {
      "text/html": [
       "<div>\n",
       "<style scoped>\n",
       "    .dataframe tbody tr th:only-of-type {\n",
       "        vertical-align: middle;\n",
       "    }\n",
       "\n",
       "    .dataframe tbody tr th {\n",
       "        vertical-align: top;\n",
       "    }\n",
       "\n",
       "    .dataframe thead th {\n",
       "        text-align: right;\n",
       "    }\n",
       "</style>\n",
       "<table border=\"1\" class=\"dataframe\">\n",
       "  <thead>\n",
       "    <tr style=\"text-align: right;\">\n",
       "      <th></th>\n",
       "      <th>restaurant_name</th>\n",
       "      <th>aggregate_rating</th>\n",
       "    </tr>\n",
       "  </thead>\n",
       "  <tbody>\n",
       "    <tr>\n",
       "      <th>0</th>\n",
       "      <td>Burger &amp; Lobster</td>\n",
       "      <td>4.9</td>\n",
       "    </tr>\n",
       "  </tbody>\n",
       "</table>\n",
       "</div>"
      ],
      "text/plain": [
       "    restaurant_name  aggregate_rating\n",
       "0  Burger & Lobster               4.9"
      ]
     },
     "execution_count": 47,
     "metadata": {},
     "output_type": "execute_result"
    }
   ],
   "source": [
    "df[df['cuisines'] == 'American'].sort_values(['aggregate_rating','restaurant_id'], ascending=[False,True]).reset_index(drop=True).head(1)[['restaurant_name','aggregate_rating']]"
   ]
  },
  {
   "cell_type": "markdown",
   "id": "fb2250e2-e546-4ad0-8a8d-6d0e8d8ad967",
   "metadata": {},
   "source": [
    "## 4. Dos restaurantes que possuem o tipo de culinária americana, qual o nome do restaurante com a menor média de avaliação?"
   ]
  },
  {
   "cell_type": "code",
   "execution_count": 48,
   "id": "84a0838c-1878-4c17-ba7c-847f77f97f9d",
   "metadata": {},
   "outputs": [
    {
     "data": {
      "text/html": [
       "<div>\n",
       "<style scoped>\n",
       "    .dataframe tbody tr th:only-of-type {\n",
       "        vertical-align: middle;\n",
       "    }\n",
       "\n",
       "    .dataframe tbody tr th {\n",
       "        vertical-align: top;\n",
       "    }\n",
       "\n",
       "    .dataframe thead th {\n",
       "        text-align: right;\n",
       "    }\n",
       "</style>\n",
       "<table border=\"1\" class=\"dataframe\">\n",
       "  <thead>\n",
       "    <tr style=\"text-align: right;\">\n",
       "      <th></th>\n",
       "      <th>restaurant_name</th>\n",
       "      <th>aggregate_rating</th>\n",
       "    </tr>\n",
       "  </thead>\n",
       "  <tbody>\n",
       "    <tr>\n",
       "      <th>0</th>\n",
       "      <td>Guy Fieri's Kitchen &amp; Bar</td>\n",
       "      <td>2.2</td>\n",
       "    </tr>\n",
       "  </tbody>\n",
       "</table>\n",
       "</div>"
      ],
      "text/plain": [
       "             restaurant_name  aggregate_rating\n",
       "0  Guy Fieri's Kitchen & Bar               2.2"
      ]
     },
     "execution_count": 48,
     "metadata": {},
     "output_type": "execute_result"
    }
   ],
   "source": [
    "df[(df['cuisines'] == 'American') & (df['votes'] != 0)].sort_values(['aggregate_rating',\n",
    "                                                                    'restaurant_id'], ascending=[True,\n",
    "                                                                                                 True]).reset_index(drop=True).head(1)[['restaurant_name','aggregate_rating']]"
   ]
  },
  {
   "cell_type": "markdown",
   "id": "4d0d6e8f-a3fe-4a13-bd1c-a0ea50c65c80",
   "metadata": {},
   "source": [
    "## 5. Dos restaurantes que possuem o tipo de culinária árabe, qual o nome do restaurante com a maior média de avaliação?"
   ]
  },
  {
   "cell_type": "code",
   "execution_count": 49,
   "id": "99457e47-7851-4bab-9783-29e1040a9979",
   "metadata": {},
   "outputs": [
    {
     "data": {
      "text/html": [
       "<div>\n",
       "<style scoped>\n",
       "    .dataframe tbody tr th:only-of-type {\n",
       "        vertical-align: middle;\n",
       "    }\n",
       "\n",
       "    .dataframe tbody tr th {\n",
       "        vertical-align: top;\n",
       "    }\n",
       "\n",
       "    .dataframe thead th {\n",
       "        text-align: right;\n",
       "    }\n",
       "</style>\n",
       "<table border=\"1\" class=\"dataframe\">\n",
       "  <thead>\n",
       "    <tr style=\"text-align: right;\">\n",
       "      <th></th>\n",
       "      <th>restaurant_name</th>\n",
       "      <th>aggregate_rating</th>\n",
       "    </tr>\n",
       "  </thead>\n",
       "  <tbody>\n",
       "    <tr>\n",
       "      <th>0</th>\n",
       "      <td>Mandi@36</td>\n",
       "      <td>4.7</td>\n",
       "    </tr>\n",
       "  </tbody>\n",
       "</table>\n",
       "</div>"
      ],
      "text/plain": [
       "  restaurant_name  aggregate_rating\n",
       "0        Mandi@36               4.7"
      ]
     },
     "execution_count": 49,
     "metadata": {},
     "output_type": "execute_result"
    }
   ],
   "source": [
    "df[df['cuisines'] == 'Arabian'].sort_values(['aggregate_rating','restaurant_id'], ascending=[False,True]).reset_index(drop=True).head(1)[['restaurant_name','aggregate_rating']]"
   ]
  },
  {
   "cell_type": "markdown",
   "id": "ecb2a906-62c1-4545-ab17-67836de1d541",
   "metadata": {},
   "source": [
    "## 6. Dos restaurantes que possuem o tipo de culinária árabe, qual o nome do restaurante com a menor média de avaliação?"
   ]
  },
  {
   "cell_type": "code",
   "execution_count": 50,
   "id": "f3a6d63b-ac51-4136-bb3b-ccd2cf3a7a35",
   "metadata": {},
   "outputs": [
    {
     "data": {
      "text/html": [
       "<div>\n",
       "<style scoped>\n",
       "    .dataframe tbody tr th:only-of-type {\n",
       "        vertical-align: middle;\n",
       "    }\n",
       "\n",
       "    .dataframe tbody tr th {\n",
       "        vertical-align: top;\n",
       "    }\n",
       "\n",
       "    .dataframe thead th {\n",
       "        text-align: right;\n",
       "    }\n",
       "</style>\n",
       "<table border=\"1\" class=\"dataframe\">\n",
       "  <thead>\n",
       "    <tr style=\"text-align: right;\">\n",
       "      <th></th>\n",
       "      <th>restaurant_name</th>\n",
       "      <th>aggregate_rating</th>\n",
       "    </tr>\n",
       "  </thead>\n",
       "  <tbody>\n",
       "    <tr>\n",
       "      <th>0</th>\n",
       "      <td>Raful</td>\n",
       "      <td>0.0</td>\n",
       "    </tr>\n",
       "  </tbody>\n",
       "</table>\n",
       "</div>"
      ],
      "text/plain": [
       "  restaurant_name  aggregate_rating\n",
       "0           Raful               0.0"
      ]
     },
     "execution_count": 50,
     "metadata": {},
     "output_type": "execute_result"
    }
   ],
   "source": [
    "df[(df['cuisines'] == 'Arabian') & (df['votes'] != 0)].sort_values(['aggregate_rating',\n",
    "                                                                    'restaurant_id'], ascending=[True,\n",
    "                                                                                                 True]).reset_index(drop=True).head(1)[['restaurant_name','aggregate_rating']]"
   ]
  },
  {
   "cell_type": "markdown",
   "id": "13fe8773-10b0-45eb-88bd-53fe2da41ca3",
   "metadata": {},
   "source": [
    "## 7. Dos restaurantes que possuem o tipo de culinária japonesa, qual o nome do restaurante com a maior média de avaliação?"
   ]
  },
  {
   "cell_type": "code",
   "execution_count": 51,
   "id": "9b8f1a0a-16f0-436e-a767-f79822b7790c",
   "metadata": {},
   "outputs": [
    {
     "data": {
      "text/html": [
       "<div>\n",
       "<style scoped>\n",
       "    .dataframe tbody tr th:only-of-type {\n",
       "        vertical-align: middle;\n",
       "    }\n",
       "\n",
       "    .dataframe tbody tr th {\n",
       "        vertical-align: top;\n",
       "    }\n",
       "\n",
       "    .dataframe thead th {\n",
       "        text-align: right;\n",
       "    }\n",
       "</style>\n",
       "<table border=\"1\" class=\"dataframe\">\n",
       "  <thead>\n",
       "    <tr style=\"text-align: right;\">\n",
       "      <th></th>\n",
       "      <th>restaurant_name</th>\n",
       "      <th>aggregate_rating</th>\n",
       "    </tr>\n",
       "  </thead>\n",
       "  <tbody>\n",
       "    <tr>\n",
       "      <th>0</th>\n",
       "      <td>Sushi Samba</td>\n",
       "      <td>4.9</td>\n",
       "    </tr>\n",
       "  </tbody>\n",
       "</table>\n",
       "</div>"
      ],
      "text/plain": [
       "  restaurant_name  aggregate_rating\n",
       "0     Sushi Samba               4.9"
      ]
     },
     "execution_count": 51,
     "metadata": {},
     "output_type": "execute_result"
    }
   ],
   "source": [
    "df[df['cuisines'] == 'Japanese'].sort_values(['aggregate_rating','restaurant_id'], ascending=[False,True]).reset_index(drop=True).head(1)[['restaurant_name','aggregate_rating']]"
   ]
  },
  {
   "cell_type": "markdown",
   "id": "ac044c49-8e1f-4105-99e9-fd7770575b1d",
   "metadata": {},
   "source": [
    "## 8. Dos restaurantes que possuem o tipo de culinária japonesa, qual o nome do restaurante com a menor média de avaliação?"
   ]
  },
  {
   "cell_type": "code",
   "execution_count": 52,
   "id": "1ab2e442-dea7-4552-90bf-cb5ae7a88b8e",
   "metadata": {},
   "outputs": [
    {
     "data": {
      "text/html": [
       "<div>\n",
       "<style scoped>\n",
       "    .dataframe tbody tr th:only-of-type {\n",
       "        vertical-align: middle;\n",
       "    }\n",
       "\n",
       "    .dataframe tbody tr th {\n",
       "        vertical-align: top;\n",
       "    }\n",
       "\n",
       "    .dataframe thead th {\n",
       "        text-align: right;\n",
       "    }\n",
       "</style>\n",
       "<table border=\"1\" class=\"dataframe\">\n",
       "  <thead>\n",
       "    <tr style=\"text-align: right;\">\n",
       "      <th></th>\n",
       "      <th>restaurant_name</th>\n",
       "      <th>aggregate_rating</th>\n",
       "    </tr>\n",
       "  </thead>\n",
       "  <tbody>\n",
       "    <tr>\n",
       "      <th>0</th>\n",
       "      <td>Banzai Sushi</td>\n",
       "      <td>0.0</td>\n",
       "    </tr>\n",
       "  </tbody>\n",
       "</table>\n",
       "</div>"
      ],
      "text/plain": [
       "  restaurant_name  aggregate_rating\n",
       "0    Banzai Sushi               0.0"
      ]
     },
     "execution_count": 52,
     "metadata": {},
     "output_type": "execute_result"
    }
   ],
   "source": [
    "df[(df['cuisines'] == 'Japanese') & (df['votes'] != 0)].sort_values(['aggregate_rating',\n",
    "                                                                    'restaurant_id'], ascending=[True,\n",
    "                                                                                                 True]).reset_index(drop=True).head(1)[['restaurant_name','aggregate_rating']]"
   ]
  },
  {
   "cell_type": "markdown",
   "id": "26a876c6-768d-4b62-8eda-a460b9c57f99",
   "metadata": {},
   "source": [
    "## 9. Dos restaurantes que possuem o tipo de culinária caseira, qual o nome do restaurante com a maior média de avaliação?"
   ]
  },
  {
   "cell_type": "code",
   "execution_count": 53,
   "id": "cda69d10-93f6-4b1d-838e-312ba3123038",
   "metadata": {},
   "outputs": [
    {
     "data": {
      "text/html": [
       "<div>\n",
       "<style scoped>\n",
       "    .dataframe tbody tr th:only-of-type {\n",
       "        vertical-align: middle;\n",
       "    }\n",
       "\n",
       "    .dataframe tbody tr th {\n",
       "        vertical-align: top;\n",
       "    }\n",
       "\n",
       "    .dataframe thead th {\n",
       "        text-align: right;\n",
       "    }\n",
       "</style>\n",
       "<table border=\"1\" class=\"dataframe\">\n",
       "  <thead>\n",
       "    <tr style=\"text-align: right;\">\n",
       "      <th></th>\n",
       "      <th>restaurant_name</th>\n",
       "      <th>aggregate_rating</th>\n",
       "    </tr>\n",
       "  </thead>\n",
       "  <tbody>\n",
       "    <tr>\n",
       "      <th>0</th>\n",
       "      <td>Kanaat Lokantası</td>\n",
       "      <td>4.0</td>\n",
       "    </tr>\n",
       "  </tbody>\n",
       "</table>\n",
       "</div>"
      ],
      "text/plain": [
       "    restaurant_name  aggregate_rating\n",
       "0  Kanaat Lokantası               4.0"
      ]
     },
     "execution_count": 53,
     "metadata": {},
     "output_type": "execute_result"
    }
   ],
   "source": [
    "df[df['cuisines'] == 'Home-made'].sort_values(['aggregate_rating','restaurant_id'], ascending=[False,True]).reset_index(drop=True).head(1)[['restaurant_name','aggregate_rating']]"
   ]
  },
  {
   "cell_type": "markdown",
   "id": "ccfb42b0-aabe-4c7d-9720-830c9b5d163f",
   "metadata": {},
   "source": [
    "## 10. Dos restaurantes que possuem o tipo de culinária caseira, qual o nome do restaurante com a menor média de avaliação?"
   ]
  },
  {
   "cell_type": "code",
   "execution_count": 54,
   "id": "7e28c4fa-2002-4d33-9125-8272475931ac",
   "metadata": {},
   "outputs": [
    {
     "data": {
      "text/html": [
       "<div>\n",
       "<style scoped>\n",
       "    .dataframe tbody tr th:only-of-type {\n",
       "        vertical-align: middle;\n",
       "    }\n",
       "\n",
       "    .dataframe tbody tr th {\n",
       "        vertical-align: top;\n",
       "    }\n",
       "\n",
       "    .dataframe thead th {\n",
       "        text-align: right;\n",
       "    }\n",
       "</style>\n",
       "<table border=\"1\" class=\"dataframe\">\n",
       "  <thead>\n",
       "    <tr style=\"text-align: right;\">\n",
       "      <th></th>\n",
       "      <th>restaurant_name</th>\n",
       "      <th>aggregate_rating</th>\n",
       "    </tr>\n",
       "  </thead>\n",
       "  <tbody>\n",
       "    <tr>\n",
       "      <th>0</th>\n",
       "      <td>GurMekan Restaurant</td>\n",
       "      <td>3.7</td>\n",
       "    </tr>\n",
       "  </tbody>\n",
       "</table>\n",
       "</div>"
      ],
      "text/plain": [
       "       restaurant_name  aggregate_rating\n",
       "0  GurMekan Restaurant               3.7"
      ]
     },
     "execution_count": 54,
     "metadata": {},
     "output_type": "execute_result"
    }
   ],
   "source": [
    "df[(df['cuisines'] == 'Home-made') & (df['votes'] != 0)].sort_values(['aggregate_rating',\n",
    "                                                                    'restaurant_id'], ascending=[True,\n",
    "                                                                                                 True]).reset_index(drop=True).head(1)[['restaurant_name','aggregate_rating']]"
   ]
  },
  {
   "cell_type": "markdown",
   "id": "25f5475a-42fe-4dec-aebd-89a0c4e9d220",
   "metadata": {},
   "source": [
    "## 11. Qual o tipo de culinária que possui o maior valor médio de um prato para duas pessoas?"
   ]
  },
  {
   "cell_type": "code",
   "execution_count": 55,
   "id": "a49aa17e-26e3-4532-aaf6-a1427e533626",
   "metadata": {},
   "outputs": [
    {
     "data": {
      "text/html": [
       "<div>\n",
       "<style scoped>\n",
       "    .dataframe tbody tr th:only-of-type {\n",
       "        vertical-align: middle;\n",
       "    }\n",
       "\n",
       "    .dataframe tbody tr th {\n",
       "        vertical-align: top;\n",
       "    }\n",
       "\n",
       "    .dataframe thead th {\n",
       "        text-align: right;\n",
       "    }\n",
       "</style>\n",
       "<table border=\"1\" class=\"dataframe\">\n",
       "  <thead>\n",
       "    <tr style=\"text-align: right;\">\n",
       "      <th></th>\n",
       "      <th>cuisines</th>\n",
       "      <th>average_cost_for_two_brl</th>\n",
       "    </tr>\n",
       "  </thead>\n",
       "  <tbody>\n",
       "    <tr>\n",
       "      <th>0</th>\n",
       "      <td>New Mexican</td>\n",
       "      <td>885.6</td>\n",
       "    </tr>\n",
       "  </tbody>\n",
       "</table>\n",
       "</div>"
      ],
      "text/plain": [
       "      cuisines  average_cost_for_two_brl\n",
       "0  New Mexican                     885.6"
      ]
     },
     "execution_count": 55,
     "metadata": {},
     "output_type": "execute_result"
    }
   ],
   "source": [
    "cols = ['cuisines','average_cost_for_two_brl']\n",
    "df[cols].groupby('cuisines').mean().sort_values('average_cost_for_two_brl', ascending=False).reset_index().head(1)"
   ]
  },
  {
   "cell_type": "markdown",
   "id": "905e6652-f29c-405e-ad97-e8047ed4f813",
   "metadata": {},
   "source": [
    "## 12. Qual o tipo de culinária que possui a maior nota média?"
   ]
  },
  {
   "cell_type": "code",
   "execution_count": 56,
   "id": "52ef5a68-7851-4c85-8ce9-0164d67cd208",
   "metadata": {},
   "outputs": [
    {
     "data": {
      "text/html": [
       "<div>\n",
       "<style scoped>\n",
       "    .dataframe tbody tr th:only-of-type {\n",
       "        vertical-align: middle;\n",
       "    }\n",
       "\n",
       "    .dataframe tbody tr th {\n",
       "        vertical-align: top;\n",
       "    }\n",
       "\n",
       "    .dataframe thead th {\n",
       "        text-align: right;\n",
       "    }\n",
       "</style>\n",
       "<table border=\"1\" class=\"dataframe\">\n",
       "  <thead>\n",
       "    <tr style=\"text-align: right;\">\n",
       "      <th></th>\n",
       "      <th>cuisines</th>\n",
       "      <th>aggregate_rating</th>\n",
       "    </tr>\n",
       "  </thead>\n",
       "  <tbody>\n",
       "    <tr>\n",
       "      <th>0</th>\n",
       "      <td>Others</td>\n",
       "      <td>4.9</td>\n",
       "    </tr>\n",
       "  </tbody>\n",
       "</table>\n",
       "</div>"
      ],
      "text/plain": [
       "  cuisines  aggregate_rating\n",
       "0   Others               4.9"
      ]
     },
     "execution_count": 56,
     "metadata": {},
     "output_type": "execute_result"
    }
   ],
   "source": [
    "cols = ['cuisines','aggregate_rating']\n",
    "df[cols].groupby('cuisines').mean().sort_values('aggregate_rating', ascending=False).reset_index().head(1)"
   ]
  },
  {
   "cell_type": "markdown",
   "id": "246cf379-1e4c-401d-8fbc-b0c99aa2d8df",
   "metadata": {},
   "source": [
    "## 13. Qual o tipo de culinária que possui mais restaurantes que aceitam pedidos online e fazem entregas?"
   ]
  },
  {
   "cell_type": "code",
   "execution_count": 57,
   "id": "7fea42b4-c274-4285-8cc9-e0654df2987a",
   "metadata": {},
   "outputs": [
    {
     "data": {
      "text/html": [
       "<div>\n",
       "<style scoped>\n",
       "    .dataframe tbody tr th:only-of-type {\n",
       "        vertical-align: middle;\n",
       "    }\n",
       "\n",
       "    .dataframe tbody tr th {\n",
       "        vertical-align: top;\n",
       "    }\n",
       "\n",
       "    .dataframe thead th {\n",
       "        text-align: right;\n",
       "    }\n",
       "</style>\n",
       "<table border=\"1\" class=\"dataframe\">\n",
       "  <thead>\n",
       "    <tr style=\"text-align: right;\">\n",
       "      <th></th>\n",
       "      <th>cuisines</th>\n",
       "      <th>is_delivering_now</th>\n",
       "      <th>has_online_delivery</th>\n",
       "    </tr>\n",
       "  </thead>\n",
       "  <tbody>\n",
       "    <tr>\n",
       "      <th>0</th>\n",
       "      <td>North Indian</td>\n",
       "      <td>317</td>\n",
       "      <td>317</td>\n",
       "    </tr>\n",
       "  </tbody>\n",
       "</table>\n",
       "</div>"
      ],
      "text/plain": [
       "       cuisines  is_delivering_now  has_online_delivery\n",
       "0  North Indian                317                  317"
      ]
     },
     "execution_count": 57,
     "metadata": {},
     "output_type": "execute_result"
    }
   ],
   "source": [
    "cols = ['cuisines','is_delivering_now','has_online_delivery']\n",
    "df[cols][(df['is_delivering_now'] == 1) & (df['has_online_delivery'] == 1)].groupby('cuisines').count().sort_values('is_delivering_now', ascending=False).reset_index().head(1)"
   ]
  },
  {
   "cell_type": "markdown",
   "id": "8af0069f-cb7f-40b3-b324-ef265cdbbac4",
   "metadata": {
    "jp-MarkdownHeadingCollapsed": true
   },
   "source": [
    "# Análise Restaurantes"
   ]
  },
  {
   "cell_type": "markdown",
   "id": "6fb8d174-5df8-4650-8e26-54ee6eb3f1ad",
   "metadata": {},
   "source": [
    "## 1. Qual o nome do restaurante que possui a maior quantidade de avaliações?"
   ]
  },
  {
   "cell_type": "code",
   "execution_count": 58,
   "id": "42d8e5be-6103-455c-89cb-4b9c998df43f",
   "metadata": {},
   "outputs": [
    {
     "data": {
      "text/html": [
       "<div>\n",
       "<style scoped>\n",
       "    .dataframe tbody tr th:only-of-type {\n",
       "        vertical-align: middle;\n",
       "    }\n",
       "\n",
       "    .dataframe tbody tr th {\n",
       "        vertical-align: top;\n",
       "    }\n",
       "\n",
       "    .dataframe thead th {\n",
       "        text-align: right;\n",
       "    }\n",
       "</style>\n",
       "<table border=\"1\" class=\"dataframe\">\n",
       "  <thead>\n",
       "    <tr style=\"text-align: right;\">\n",
       "      <th></th>\n",
       "      <th>restaurant_name</th>\n",
       "      <th>votes</th>\n",
       "    </tr>\n",
       "  </thead>\n",
       "  <tbody>\n",
       "    <tr>\n",
       "      <th>0</th>\n",
       "      <td>Bawarchi</td>\n",
       "      <td>41333</td>\n",
       "    </tr>\n",
       "  </tbody>\n",
       "</table>\n",
       "</div>"
      ],
      "text/plain": [
       "  restaurant_name  votes\n",
       "0        Bawarchi  41333"
      ]
     },
     "execution_count": 58,
     "metadata": {},
     "output_type": "execute_result"
    }
   ],
   "source": [
    "cols = ['restaurant_name','votes']\n",
    "df[cols].sort_values('votes', ascending=False).reset_index(drop=True).head(1)"
   ]
  },
  {
   "cell_type": "markdown",
   "id": "2d3faa2a-f491-47dd-bcc6-70789090ea7c",
   "metadata": {},
   "source": [
    "## 2. Qual o nome do restaurante com a maior nota média?"
   ]
  },
  {
   "cell_type": "code",
   "execution_count": 59,
   "id": "1f2c8452-c8ed-4a16-b556-bd5f92017be5",
   "metadata": {},
   "outputs": [
    {
     "data": {
      "text/html": [
       "<div>\n",
       "<style scoped>\n",
       "    .dataframe tbody tr th:only-of-type {\n",
       "        vertical-align: middle;\n",
       "    }\n",
       "\n",
       "    .dataframe tbody tr th {\n",
       "        vertical-align: top;\n",
       "    }\n",
       "\n",
       "    .dataframe thead th {\n",
       "        text-align: right;\n",
       "    }\n",
       "</style>\n",
       "<table border=\"1\" class=\"dataframe\">\n",
       "  <thead>\n",
       "    <tr style=\"text-align: right;\">\n",
       "      <th></th>\n",
       "      <th>restaurant_id</th>\n",
       "      <th>restaurant_name</th>\n",
       "      <th>aggregate_rating</th>\n",
       "    </tr>\n",
       "  </thead>\n",
       "  <tbody>\n",
       "    <tr>\n",
       "      <th>0</th>\n",
       "      <td>7528</td>\n",
       "      <td>Indian Grill Room</td>\n",
       "      <td>4.9</td>\n",
       "    </tr>\n",
       "  </tbody>\n",
       "</table>\n",
       "</div>"
      ],
      "text/plain": [
       "   restaurant_id    restaurant_name  aggregate_rating\n",
       "0           7528  Indian Grill Room               4.9"
      ]
     },
     "execution_count": 59,
     "metadata": {},
     "output_type": "execute_result"
    }
   ],
   "source": [
    "cols = ['restaurant_id','restaurant_name','aggregate_rating']\n",
    "df[cols].sort_values(['aggregate_rating','restaurant_id'], ascending=[False,True]).reset_index(drop=True).head(1)"
   ]
  },
  {
   "cell_type": "markdown",
   "id": "d3874f21-2038-4303-83bd-45eb0813b2ab",
   "metadata": {},
   "source": [
    "## 3. Qual o nome do restaurante que possui o maior valor de uma prato para duas pessoas?"
   ]
  },
  {
   "cell_type": "code",
   "execution_count": 60,
   "id": "897b0920-191b-444a-b44c-be98d4092cad",
   "metadata": {},
   "outputs": [
    {
     "data": {
      "text/html": [
       "<div>\n",
       "<style scoped>\n",
       "    .dataframe tbody tr th:only-of-type {\n",
       "        vertical-align: middle;\n",
       "    }\n",
       "\n",
       "    .dataframe tbody tr th {\n",
       "        vertical-align: top;\n",
       "    }\n",
       "\n",
       "    .dataframe thead th {\n",
       "        text-align: right;\n",
       "    }\n",
       "</style>\n",
       "<table border=\"1\" class=\"dataframe\">\n",
       "  <thead>\n",
       "    <tr style=\"text-align: right;\">\n",
       "      <th></th>\n",
       "      <th>restaurant_name</th>\n",
       "      <th>average_cost_for_two_brl</th>\n",
       "    </tr>\n",
       "  </thead>\n",
       "  <tbody>\n",
       "    <tr>\n",
       "      <th>0</th>\n",
       "      <td>Corner House</td>\n",
       "      <td>3714.6</td>\n",
       "    </tr>\n",
       "  </tbody>\n",
       "</table>\n",
       "</div>"
      ],
      "text/plain": [
       "  restaurant_name  average_cost_for_two_brl\n",
       "0    Corner House                    3714.6"
      ]
     },
     "execution_count": 60,
     "metadata": {},
     "output_type": "execute_result"
    }
   ],
   "source": [
    "cols = ['restaurant_name','average_cost_for_two_brl']\n",
    "df[cols].sort_values('average_cost_for_two_brl', ascending=False).reset_index(drop=True).head(1)"
   ]
  },
  {
   "cell_type": "markdown",
   "id": "c06b2512-9e51-4ea5-9e19-5419f1a3f063",
   "metadata": {},
   "source": [
    "## 4. Qual o nome do restaurante de tipo de culinária brasileira que possui a menor média de avaliação? (diferentes de 0)"
   ]
  },
  {
   "cell_type": "code",
   "execution_count": 61,
   "id": "7bb3206b-6ae8-4c00-ba4c-8d99668dbf80",
   "metadata": {},
   "outputs": [
    {
     "data": {
      "text/html": [
       "<div>\n",
       "<style scoped>\n",
       "    .dataframe tbody tr th:only-of-type {\n",
       "        vertical-align: middle;\n",
       "    }\n",
       "\n",
       "    .dataframe tbody tr th {\n",
       "        vertical-align: top;\n",
       "    }\n",
       "\n",
       "    .dataframe thead th {\n",
       "        text-align: right;\n",
       "    }\n",
       "</style>\n",
       "<table border=\"1\" class=\"dataframe\">\n",
       "  <thead>\n",
       "    <tr style=\"text-align: right;\">\n",
       "      <th></th>\n",
       "      <th>restaurant_name</th>\n",
       "      <th>aggregate_rating</th>\n",
       "    </tr>\n",
       "  </thead>\n",
       "  <tbody>\n",
       "    <tr>\n",
       "      <th>0</th>\n",
       "      <td>Café das Estrelas</td>\n",
       "      <td>3.0</td>\n",
       "    </tr>\n",
       "  </tbody>\n",
       "</table>\n",
       "</div>"
      ],
      "text/plain": [
       "     restaurant_name  aggregate_rating\n",
       "0  Café das Estrelas               3.0"
      ]
     },
     "execution_count": 61,
     "metadata": {},
     "output_type": "execute_result"
    }
   ],
   "source": [
    "df[(df['cuisines'] == 'Brazilian') & (df['aggregate_rating'] != 0)].sort_values(['aggregate_rating',\n",
    "                                                                                 'restaurant_id'], ascending=[True,\n",
    "                                                                                                              True]).reset_index(drop=True).head(1)[['restaurant_name','aggregate_rating']]"
   ]
  },
  {
   "cell_type": "markdown",
   "id": "5bc3e5a0-f2b4-41d9-ab02-9cce073a8788",
   "metadata": {},
   "source": [
    "## 5. Qual o nome do restaurante de tipo de culinária brasileira, e que é do Brasil, que possui a maior média de avaliação?"
   ]
  },
  {
   "cell_type": "code",
   "execution_count": 62,
   "id": "d45d9cf5-50d5-41b9-af98-00aea87e948c",
   "metadata": {},
   "outputs": [
    {
     "data": {
      "text/html": [
       "<div>\n",
       "<style scoped>\n",
       "    .dataframe tbody tr th:only-of-type {\n",
       "        vertical-align: middle;\n",
       "    }\n",
       "\n",
       "    .dataframe tbody tr th {\n",
       "        vertical-align: top;\n",
       "    }\n",
       "\n",
       "    .dataframe thead th {\n",
       "        text-align: right;\n",
       "    }\n",
       "</style>\n",
       "<table border=\"1\" class=\"dataframe\">\n",
       "  <thead>\n",
       "    <tr style=\"text-align: right;\">\n",
       "      <th></th>\n",
       "      <th>restaurant_name</th>\n",
       "      <th>aggregate_rating</th>\n",
       "    </tr>\n",
       "  </thead>\n",
       "  <tbody>\n",
       "    <tr>\n",
       "      <th>190</th>\n",
       "      <td>Braseiro da Gávea</td>\n",
       "      <td>4.9</td>\n",
       "    </tr>\n",
       "  </tbody>\n",
       "</table>\n",
       "</div>"
      ],
      "text/plain": [
       "       restaurant_name  aggregate_rating\n",
       "190  Braseiro da Gávea               4.9"
      ]
     },
     "execution_count": 62,
     "metadata": {},
     "output_type": "execute_result"
    }
   ],
   "source": [
    "df[(df['cuisines'] == 'Brazilian') & (df['country_name'] == 'Brazil')].sort_values(['aggregate_rating',\n",
    "                                                                                    'restaurant_id'], ascending=[False,True]).head(1)[['restaurant_name','aggregate_rating']]"
   ]
  },
  {
   "cell_type": "markdown",
   "id": "47e4ca67-7821-4f97-8715-fc2fc0a2ff8f",
   "metadata": {},
   "source": [
    "## 6. Os restaurantes que aceitam pedido online são também, na média, os restaurantes que mais possuem avaliações registradas?"
   ]
  },
  {
   "cell_type": "code",
   "execution_count": 63,
   "id": "ce84332a-e975-4227-9bc1-98c779f4ebf0",
   "metadata": {},
   "outputs": [
    {
     "name": "stdout",
     "output_type": "stream",
     "text": [
      "Os restaurantes que aceitam pedidos online têm, em média, 838.8 votos. \n",
      "Os que não aceitam pedidos online têm, em média, 479.5 votos. \n",
      "Portanto, há relação positiva entre aceitar pedidos online e número de avaliações registradas.\n"
     ]
    }
   ],
   "source": [
    "media_votos_online_delivery_yes = round(df[df['has_online_delivery'] == 1]['votes'].mean(),1)\n",
    "media_votos_online_delivery_no = round(df[df['has_online_delivery'] == 0]['votes'].mean(),1)\n",
    "\n",
    "print(f'Os restaurantes que aceitam pedidos online têm, em média, {media_votos_online_delivery_yes} votos. \\nOs que não aceitam pedidos online têm, em média, {media_votos_online_delivery_no} votos. \\nPortanto, há relação positiva entre aceitar pedidos online e número de avaliações registradas.')"
   ]
  },
  {
   "cell_type": "markdown",
   "id": "97520063-e03e-4498-8dce-60b6257955ee",
   "metadata": {},
   "source": [
    "## 7. Os restaurantes que fazem reservas são também, na média, os restaurantes que possuem o maior valor médio de um prato para duas pessoas?"
   ]
  },
  {
   "cell_type": "code",
   "execution_count": 64,
   "id": "158891e3-a017-4a2d-bf7d-ee4c142aaf4d",
   "metadata": {},
   "outputs": [
    {
     "name": "stdout",
     "output_type": "stream",
     "text": [
      "Os restaurantes que fazem reserva têm um valor médio para duas pessoas de R$ 175.75. \n",
      "Os que não fazem reserva têm um valor médio para duas pessoas de R$ 143.15. \n",
      "Portanto, a relação entre fazer reservas e valor médio para duas pessoas é pequena.\n"
     ]
    }
   ],
   "source": [
    "avg_cost_two_booking_yes = round(df[df['has_table_booking'] == 1]['average_cost_for_two_brl'].mean(),2)\n",
    "avg_cost_two_booking_no = round(df[df['has_table_booking'] == 0]['average_cost_for_two_brl'].mean(),2)\n",
    "\n",
    "print(f'Os restaurantes que fazem reserva têm um valor médio para duas pessoas de R$ {avg_cost_two_booking_yes}. \\nOs que não fazem reserva têm um valor médio para duas pessoas de R$ {avg_cost_two_booking_no}. \\nPortanto, a relação entre fazer reservas e valor médio para duas pessoas é pequena.')"
   ]
  },
  {
   "cell_type": "markdown",
   "id": "c6c80be1-b093-4d6a-8e63-e99e6ea0bafe",
   "metadata": {},
   "source": [
    "## 8. Os restaurantes do tipo de culinária japonesa dos Estados Unidos da América possuem um valor médio de prato para duas pessoas maior que as churrascarias americanas (BBQ)?"
   ]
  },
  {
   "cell_type": "code",
   "execution_count": 65,
   "id": "2ca5227d-c857-404e-8bc2-68c5f4c74c85",
   "metadata": {},
   "outputs": [
    {
     "name": "stdout",
     "output_type": "stream",
     "text": [
      "O valor médio para duas pessoas nos restaurantes de culinária japonesa dos EUA é R$ 277.52, enquanto o valor médio para dois nas churrascarias dos EUA é de R$ 195.04. \n",
      "Portanto, sim, os restaurantes do tipo de culinária japonesa dos Estados Unidos da América possuem um valor médio de prato para duas pessoas maior que as churrascarias americanas.\n"
     ]
    }
   ],
   "source": [
    "avg_cost_two_japanese_usa = round(df[(df['cuisines'] == 'Japanese') & (df['country_name'] == 'United States of America')]['average_cost_for_two_brl'].mean(),2)\n",
    "avg_cost_two_bbq_usa = round(df[(df['cuisines'] == 'BBQ') & (df['country_name'] == 'United States of America')]['average_cost_for_two_brl'].mean(),2)\n",
    "\n",
    "print(f'O valor médio para duas pessoas nos restaurantes de culinária japonesa dos EUA é R$ {avg_cost_two_japanese_usa}, enquanto o valor médio para dois nas churrascarias dos EUA é de R$ {avg_cost_two_bbq_usa}. \\nPortanto, sim, os restaurantes do tipo de culinária japonesa dos Estados Unidos da América possuem um valor médio de prato para duas pessoas maior que as churrascarias americanas.')"
   ]
  }
 ],
 "metadata": {
  "kernelspec": {
   "display_name": "Python 3 (ipykernel)",
   "language": "python",
   "name": "python3"
  },
  "language_info": {
   "codemirror_mode": {
    "name": "ipython",
    "version": 3
   },
   "file_extension": ".py",
   "mimetype": "text/x-python",
   "name": "python",
   "nbconvert_exporter": "python",
   "pygments_lexer": "ipython3",
   "version": "3.11.4"
  }
 },
 "nbformat": 4,
 "nbformat_minor": 5
}
